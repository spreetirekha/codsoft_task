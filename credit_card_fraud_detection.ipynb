{
  "cells": [
    {
      "cell_type": "code",
      "execution_count": null,
      "metadata": {
        "id": "nLt7uK6u20SN"
      },
      "outputs": [],
      "source": [
        "# importing the packages\n",
        "import datetime\n",
        "import warnings\n",
        "import numpy as np\n",
        "import pandas as pd\n",
        "import seaborn as sns\n",
        "from datetime import date\n",
        "import sklearn.exceptions\n",
        "from pylab import rcParams\n",
        "import plot_functions as pf\n",
        "import matplotlib.pyplot as plt\n",
        "from sklearn import linear_model\n",
        "from sklearn.svm import OneClassSVM\n",
        "from imblearn.over_sampling import SMOTE\n",
        "from sklearn.ensemble import IsolationForest\n",
        "from imblearn.under_sampling import NearMiss\n",
        "from sklearn.metrics import confusion_matrix\n",
        "from sklearn.tree import DecisionTreeClassifier\n",
        "from sklearn.neighbors import LocalOutlierFactor\n",
        "from sklearn.metrics import plot_confusion_matrix\n",
        "from sklearn.linear_model import LogisticRegression\n",
        "from sklearn import datasets, metrics, preprocessing, svm\n",
        "from sklearn.metrics import precision_recall_fscore_support\n",
        "from sklearn.metrics import classification_report,accuracy_score\n",
        "warnings.filterwarnings(\"ignore\", category=sklearn.exceptions.UndefinedMetricWarning)\n",
        "\n",
        "\n",
        "\n",
        "from sklearn.ensemble import RandomForestClassifier"
      ]
    },
    {
      "cell_type": "markdown",
      "metadata": {
        "id": "EMGQ7Zvu20SS"
      },
      "source": [
        "## 1. Loading the data"
      ]
    },
    {
      "cell_type": "code",
      "execution_count": null,
      "metadata": {
        "id": "TBLiZMLU20SV"
      },
      "outputs": [],
      "source": [
        "# loading data\n",
        "data_train = pd.read_csv(\"fraudTrain.csv\")\n",
        "data_test = pd.read_csv(\"fraudTest.csv\")"
      ]
    },
    {
      "cell_type": "markdown",
      "metadata": {
        "id": "ivglHOZF20SW"
      },
      "source": [
        "## 2. Exploratory Data Analysis"
      ]
    },
    {
      "cell_type": "markdown",
      "metadata": {
        "id": "rU5G8dRJ20SX"
      },
      "source": [
        "#### 2.1 Data information"
      ]
    },
    {
      "cell_type": "code",
      "execution_count": null,
      "metadata": {
        "id": "kukncT9U20SX",
        "outputId": "ab7e7109-e686-4d73-a69b-ff082b31bb89"
      },
      "outputs": [
        {
          "name": "stdout",
          "output_type": "stream",
          "text": [
            "<class 'pandas.core.frame.DataFrame'>\n",
            "RangeIndex: 1296675 entries, 0 to 1296674\n",
            "Data columns (total 23 columns):\n",
            " #   Column                 Non-Null Count    Dtype  \n",
            "---  ------                 --------------    -----  \n",
            " 0   Unnamed: 0             1296675 non-null  int64  \n",
            " 1   trans_date_trans_time  1296675 non-null  object \n",
            " 2   cc_num                 1296675 non-null  int64  \n",
            " 3   merchant               1296675 non-null  object \n",
            " 4   category               1296675 non-null  object \n",
            " 5   amt                    1296675 non-null  float64\n",
            " 6   first                  1296675 non-null  object \n",
            " 7   last                   1296675 non-null  object \n",
            " 8   gender                 1296675 non-null  object \n",
            " 9   street                 1296675 non-null  object \n",
            " 10  city                   1296675 non-null  object \n",
            " 11  state                  1296675 non-null  object \n",
            " 12  zip                    1296675 non-null  int64  \n",
            " 13  lat                    1296675 non-null  float64\n",
            " 14  long                   1296675 non-null  float64\n",
            " 15  city_pop               1296675 non-null  int64  \n",
            " 16  job                    1296675 non-null  object \n",
            " 17  dob                    1296675 non-null  object \n",
            " 18  trans_num              1296675 non-null  object \n",
            " 19  unix_time              1296675 non-null  int64  \n",
            " 20  merch_lat              1296675 non-null  float64\n",
            " 21  merch_long             1296675 non-null  float64\n",
            " 22  is_fraud               1296675 non-null  int64  \n",
            "dtypes: float64(5), int64(6), object(12)\n",
            "memory usage: 227.5+ MB\n"
          ]
        }
      ],
      "source": [
        "data_train.info()"
      ]
    },
    {
      "cell_type": "markdown",
      "metadata": {
        "id": "lXmLlcrg20SZ"
      },
      "source": [
        "We see that there are 22 features    \n",
        "\"is_fraud\" is the dependent variable"
      ]
    },
    {
      "cell_type": "markdown",
      "metadata": {
        "id": "EB_VWha720SZ"
      },
      "source": [
        "#### 2.2 Shape of Data\n"
      ]
    },
    {
      "cell_type": "code",
      "execution_count": null,
      "metadata": {
        "id": "R5OLtz8E20Sa",
        "outputId": "f4303c14-3bd6-4eb6-d167-8a964fe06b91"
      },
      "outputs": [
        {
          "name": "stdout",
          "output_type": "stream",
          "text": [
            "(1296675, 23) (555719, 23)\n"
          ]
        }
      ],
      "source": [
        "print(data_train.shape,data_test.shape)"
      ]
    },
    {
      "cell_type": "markdown",
      "metadata": {
        "id": "gLFBWxkC20Sa"
      },
      "source": [
        "#### 2.3 Taking a fraction to run the model faster\n"
      ]
    },
    {
      "cell_type": "code",
      "execution_count": null,
      "metadata": {
        "id": "I-2FZCAl20Sb",
        "outputId": "60f3bd0e-2d3f-4cf5-ddc7-a8c1c5ec8931"
      },
      "outputs": [
        {
          "name": "stdout",
          "output_type": "stream",
          "text": [
            "(129668, 23) (27786, 23)\n"
          ]
        }
      ],
      "source": [
        "# taking smaller sample to run the model faster\n",
        "\n",
        "df_train= data_train.sample(frac = 0.1,random_state=1)\n",
        "df_test= data_test.sample(frac = 0.05,random_state=1)\n",
        "print(df_train.shape,df_test.shape)"
      ]
    },
    {
      "cell_type": "code",
      "execution_count": null,
      "metadata": {
        "id": "ouk12X_o20Sc",
        "outputId": "d071953c-029e-412a-90ad-1d64bab7ac18"
      },
      "outputs": [
        {
          "data": {
            "text/html": [
              "<div>\n",
              "<style scoped>\n",
              "    .dataframe tbody tr th:only-of-type {\n",
              "        vertical-align: middle;\n",
              "    }\n",
              "\n",
              "    .dataframe tbody tr th {\n",
              "        vertical-align: top;\n",
              "    }\n",
              "\n",
              "    .dataframe thead th {\n",
              "        text-align: right;\n",
              "    }\n",
              "</style>\n",
              "<table border=\"1\" class=\"dataframe\">\n",
              "  <thead>\n",
              "    <tr style=\"text-align: right;\">\n",
              "      <th></th>\n",
              "      <th>Unnamed: 0</th>\n",
              "      <th>trans_date_trans_time</th>\n",
              "      <th>cc_num</th>\n",
              "      <th>merchant</th>\n",
              "      <th>category</th>\n",
              "      <th>amt</th>\n",
              "      <th>first</th>\n",
              "      <th>last</th>\n",
              "      <th>gender</th>\n",
              "      <th>street</th>\n",
              "      <th>...</th>\n",
              "      <th>lat</th>\n",
              "      <th>long</th>\n",
              "      <th>city_pop</th>\n",
              "      <th>job</th>\n",
              "      <th>dob</th>\n",
              "      <th>trans_num</th>\n",
              "      <th>unix_time</th>\n",
              "      <th>merch_lat</th>\n",
              "      <th>merch_long</th>\n",
              "      <th>is_fraud</th>\n",
              "    </tr>\n",
              "  </thead>\n",
              "  <tbody>\n",
              "    <tr>\n",
              "      <th>94102</th>\n",
              "      <td>94102</td>\n",
              "      <td>2019-02-25 08:24:40</td>\n",
              "      <td>374497717543058</td>\n",
              "      <td>fraud_Funk Group</td>\n",
              "      <td>grocery_net</td>\n",
              "      <td>20.00</td>\n",
              "      <td>Linda</td>\n",
              "      <td>Hurst</td>\n",
              "      <td>F</td>\n",
              "      <td>31701 Tucker Square Suite 893</td>\n",
              "      <td>...</td>\n",
              "      <td>47.1709</td>\n",
              "      <td>-100.7944</td>\n",
              "      <td>1190</td>\n",
              "      <td>Designer, ceramics/pottery</td>\n",
              "      <td>1948-06-30</td>\n",
              "      <td>1595dec12f6f19ceaae9b7df0f8af5c0</td>\n",
              "      <td>1330158280</td>\n",
              "      <td>46.398331</td>\n",
              "      <td>-99.813959</td>\n",
              "      <td>0</td>\n",
              "    </tr>\n",
              "    <tr>\n",
              "      <th>198791</th>\n",
              "      <td>198791</td>\n",
              "      <td>2019-04-12 19:50:15</td>\n",
              "      <td>4428154703770710</td>\n",
              "      <td>fraud_Prosacco, Kreiger and Kovacek</td>\n",
              "      <td>home</td>\n",
              "      <td>284.88</td>\n",
              "      <td>Brittany</td>\n",
              "      <td>Guerra</td>\n",
              "      <td>F</td>\n",
              "      <td>79209 Gary Dale</td>\n",
              "      <td>...</td>\n",
              "      <td>46.5901</td>\n",
              "      <td>-117.1692</td>\n",
              "      <td>761</td>\n",
              "      <td>Chief Marketing Officer</td>\n",
              "      <td>1943-06-30</td>\n",
              "      <td>0ed26b649ed0fce94d8e632b7208dea0</td>\n",
              "      <td>1334260215</td>\n",
              "      <td>45.687331</td>\n",
              "      <td>-117.488135</td>\n",
              "      <td>0</td>\n",
              "    </tr>\n",
              "    <tr>\n",
              "      <th>1238587</th>\n",
              "      <td>1238587</td>\n",
              "      <td>2020-05-31 21:50:53</td>\n",
              "      <td>213148039875802</td>\n",
              "      <td>fraud_Langworth, Boehm and Gulgowski</td>\n",
              "      <td>shopping_net</td>\n",
              "      <td>5.07</td>\n",
              "      <td>Jill</td>\n",
              "      <td>Jacobs</td>\n",
              "      <td>F</td>\n",
              "      <td>034 Kimberly Mountains</td>\n",
              "      <td>...</td>\n",
              "      <td>27.9551</td>\n",
              "      <td>-82.2966</td>\n",
              "      <td>79613</td>\n",
              "      <td>Environmental consultant</td>\n",
              "      <td>1978-11-30</td>\n",
              "      <td>7096316ec1a4b261e8613013827abae7</td>\n",
              "      <td>1370037053</td>\n",
              "      <td>27.254081</td>\n",
              "      <td>-81.974799</td>\n",
              "      <td>0</td>\n",
              "    </tr>\n",
              "  </tbody>\n",
              "</table>\n",
              "<p>3 rows × 23 columns</p>\n",
              "</div>"
            ],
            "text/plain": [
              "         Unnamed: 0 trans_date_trans_time            cc_num  \\\n",
              "94102         94102   2019-02-25 08:24:40   374497717543058   \n",
              "198791       198791   2019-04-12 19:50:15  4428154703770710   \n",
              "1238587     1238587   2020-05-31 21:50:53   213148039875802   \n",
              "\n",
              "                                     merchant      category     amt     first  \\\n",
              "94102                        fraud_Funk Group   grocery_net   20.00     Linda   \n",
              "198791    fraud_Prosacco, Kreiger and Kovacek          home  284.88  Brittany   \n",
              "1238587  fraud_Langworth, Boehm and Gulgowski  shopping_net    5.07      Jill   \n",
              "\n",
              "           last gender                         street  ...      lat      long  \\\n",
              "94102     Hurst      F  31701 Tucker Square Suite 893  ...  47.1709 -100.7944   \n",
              "198791   Guerra      F                79209 Gary Dale  ...  46.5901 -117.1692   \n",
              "1238587  Jacobs      F         034 Kimberly Mountains  ...  27.9551  -82.2966   \n",
              "\n",
              "         city_pop                         job         dob  \\\n",
              "94102        1190  Designer, ceramics/pottery  1948-06-30   \n",
              "198791        761     Chief Marketing Officer  1943-06-30   \n",
              "1238587     79613    Environmental consultant  1978-11-30   \n",
              "\n",
              "                                trans_num   unix_time  merch_lat  merch_long  \\\n",
              "94102    1595dec12f6f19ceaae9b7df0f8af5c0  1330158280  46.398331  -99.813959   \n",
              "198791   0ed26b649ed0fce94d8e632b7208dea0  1334260215  45.687331 -117.488135   \n",
              "1238587  7096316ec1a4b261e8613013827abae7  1370037053  27.254081  -81.974799   \n",
              "\n",
              "         is_fraud  \n",
              "94102           0  \n",
              "198791          0  \n",
              "1238587         0  \n",
              "\n",
              "[3 rows x 23 columns]"
            ]
          },
          "execution_count": 8,
          "metadata": {},
          "output_type": "execute_result"
        }
      ],
      "source": [
        "df_train.head(3)"
      ]
    },
    {
      "cell_type": "markdown",
      "metadata": {
        "id": "9qZY3_N_20Sd"
      },
      "source": [
        "#### 2.4 Checking the null values\n"
      ]
    },
    {
      "cell_type": "code",
      "execution_count": null,
      "metadata": {
        "id": "_ioI3epu20Sd",
        "outputId": "256c2c71-f694-4498-b3ed-bf003a451f7f"
      },
      "outputs": [
        {
          "data": {
            "text/plain": [
              "Unnamed: 0               0\n",
              "trans_date_trans_time    0\n",
              "cc_num                   0\n",
              "merchant                 0\n",
              "category                 0\n",
              "amt                      0\n",
              "first                    0\n",
              "last                     0\n",
              "gender                   0\n",
              "street                   0\n",
              "city                     0\n",
              "state                    0\n",
              "zip                      0\n",
              "lat                      0\n",
              "long                     0\n",
              "city_pop                 0\n",
              "job                      0\n",
              "dob                      0\n",
              "trans_num                0\n",
              "unix_time                0\n",
              "merch_lat                0\n",
              "merch_long               0\n",
              "is_fraud                 0\n",
              "dtype: int64"
            ]
          },
          "execution_count": 9,
          "metadata": {},
          "output_type": "execute_result"
        }
      ],
      "source": [
        "df_train.isnull().sum()\n"
      ]
    },
    {
      "cell_type": "code",
      "execution_count": null,
      "metadata": {
        "id": "TwmgtBLg20Sd",
        "outputId": "507281dd-8b04-4a14-cfab-8f36c988f1b6"
      },
      "outputs": [
        {
          "data": {
            "text/plain": [
              "Unnamed: 0               0\n",
              "trans_date_trans_time    0\n",
              "cc_num                   0\n",
              "merchant                 0\n",
              "category                 0\n",
              "amt                      0\n",
              "first                    0\n",
              "last                     0\n",
              "gender                   0\n",
              "street                   0\n",
              "city                     0\n",
              "state                    0\n",
              "zip                      0\n",
              "lat                      0\n",
              "long                     0\n",
              "city_pop                 0\n",
              "job                      0\n",
              "dob                      0\n",
              "trans_num                0\n",
              "unix_time                0\n",
              "merch_lat                0\n",
              "merch_long               0\n",
              "is_fraud                 0\n",
              "dtype: int64"
            ]
          },
          "execution_count": 10,
          "metadata": {},
          "output_type": "execute_result"
        }
      ],
      "source": [
        "df_test.isnull().sum()"
      ]
    },
    {
      "cell_type": "markdown",
      "metadata": {
        "id": "GSi1-uGz20Se"
      },
      "source": [
        "We see that no null values are present."
      ]
    },
    {
      "cell_type": "markdown",
      "metadata": {
        "id": "ly5cAOXR20Se"
      },
      "source": [
        "#### 2.5 Correlation Matrix\n"
      ]
    },
    {
      "cell_type": "code",
      "execution_count": null,
      "metadata": {
        "id": "b6dMhhFl20Se",
        "outputId": "a313fa55-964b-4918-c26b-1d12237bd822"
      },
      "outputs": [
        {
          "data": {
            "image/png": "[encoded data removed]",
            "text/plain": [
              "<Figure size 1080x1080 with 2 Axes>"
            ]
          },
          "metadata": {
            "needs_background": "light"
          },
          "output_type": "display_data"
        }
      ],
      "source": [
        "#get correlations of each features in dataset\n",
        "corrmat = df_train.corr()\n",
        "top_corr_features = corrmat.index\n",
        "plt.figure(figsize=(15,15))\n",
        "\n",
        "#plot heat map\n",
        "g=sns.heatmap(df_train[top_corr_features].corr(),annot=True,cmap=\"RdYlGn\")"
      ]
    },
    {
      "cell_type": "markdown",
      "metadata": {
        "id": "fbJT4YJw20Sf"
      },
      "source": [
        "#### 2.6 Histograms"
      ]
    },
    {
      "cell_type": "code",
      "execution_count": null,
      "metadata": {
        "id": "wZZPPnKn20Sf",
        "outputId": "d5d4bf5a-30fd-4385-fba9-d3515b8efd23"
      },
      "outputs": [
        {
          "data": {
            "image/png": "[encoded data removed]",
            "text/plain": [
              "<Figure size 1080x1080 with 12 Axes>"
            ]
          },
          "metadata": {
            "needs_background": "light"
          },
          "output_type": "display_data"
        }
      ],
      "source": [
        "#visual representation of the data using histograms\n",
        "df_train.hist(figsize = (15, 15))\n",
        "plt.show()"
      ]
    },
    {
      "cell_type": "markdown",
      "metadata": {
        "id": "82Zishe320Sg"
      },
      "source": [
        "#### 2.7 Plotting the classes"
      ]
    },
    {
      "cell_type": "code",
      "execution_count": null,
      "metadata": {
        "id": "OYmA4eyR20Sg",
        "outputId": "3fb3c7ca-a110-4014-b2c9-cc92f66add00"
      },
      "outputs": [
        {
          "data": {
            "text/plain": [
              "Text(0, 0.5, 'Frequency')"
            ]
          },
          "execution_count": 13,
          "metadata": {},
          "output_type": "execute_result"
        },
        {
          "data": {
            "image/png": "[encoded data removed]",
            "text/plain": [
              "<Figure size 360x360 with 1 Axes>"
            ]
          },
          "metadata": {
            "needs_background": "light"
          },
          "output_type": "display_data"
        }
      ],
      "source": [
        "# plotting the classes\n",
        "plt.figure(figsize=(5,5))\n",
        "count_classes = pd.value_counts(df_train['is_fraud'], sort = True)\n",
        "count_classes.plot(kind = 'bar', rot=0)\n",
        "plt.title(\"Transaction Class Distribution\")\n",
        "LABELS = ['Normal','Fraud']\n",
        "plt.xticks(range(2), LABELS)\n",
        "plt.xlabel(\"Class of transaction\")\n",
        "plt.ylabel(\"Frequency\")"
      ]
    },
    {
      "cell_type": "code",
      "execution_count": null,
      "metadata": {
        "id": "nWRbuNLb20Sh",
        "outputId": "5d375570-6e03-4a2f-ebfd-dbcbb1a4c093"
      },
      "outputs": [
        {
          "data": {
            "text/plain": [
              "<seaborn.axisgrid.FacetGrid at 0x7ff128d69c50>"
            ]
          },
          "execution_count": 14,
          "metadata": {},
          "output_type": "execute_result"
        },
        {
          "data": {
            "image/png": "[encoded data removed]",
            "text/plain": [
              "<Figure size 407.75x360 with 1 Axes>"
            ]
          },
          "metadata": {
            "needs_background": "light"
          },
          "output_type": "display_data"
        }
      ],
      "source": [
        "sns.relplot(y = 'unix_time', x = 'amt' , hue = 'is_fraud',data = df_train)"
      ]
    },
    {
      "cell_type": "code",
      "execution_count": null,
      "metadata": {
        "id": "wmY66X1b20Sh"
      },
      "outputs": [],
      "source": [
        "#sns.catplot(y = 'unix_time', x = 'amt' , hue = 'is_fraud',data = df_train)"
      ]
    },
    {
      "cell_type": "markdown",
      "metadata": {
        "id": "ShVjdpWk20Sh"
      },
      "source": [
        "We see that data is imbalanced    \n",
        "#### 2.8  Getting the Fraud and the Normal  transaction numbers for test and train dataset\n"
      ]
    },
    {
      "cell_type": "code",
      "execution_count": null,
      "metadata": {
        "id": "VjRmE6E520Si",
        "outputId": "d9977a57-b46b-46fe-fc7c-328e5f14ec26"
      },
      "outputs": [
        {
          "name": "stdout",
          "output_type": "stream",
          "text": [
            "Normal cases in train set : 128963 \n",
            "Fraud cases in train set : 705\n",
            "Normal cases in test set : 27656 \n",
            "Fraud cases in test set : 130\n"
          ]
        }
      ],
      "source": [
        "## Get the Fraud and the normal  transaction numbers for test and train dataset\n",
        "\n",
        "fraud_train = df_train[df_train['is_fraud']==1]\n",
        "normal_train = df_train[df_train['is_fraud']==0]\n",
        "fraud_test = df_test[df_test['is_fraud']==1]\n",
        "normal_test = df_test[df_test['is_fraud']==0]\n",
        "\n",
        "print(\"Normal cases in train set :\",len(df_train)-len(fraud_train),\"\\nFraud cases in train set :\",len(fraud_train))\n",
        "print(\"Normal cases in test set :\",len(df_test)-len(fraud_test),\"\\nFraud cases in test set :\",len(fraud_test))\n"
      ]
    },
    {
      "cell_type": "markdown",
      "metadata": {
        "id": "F9_K_Tkk20Si"
      },
      "source": [
        "\n",
        "## 3. Data transformation and feature engineering"
      ]
    },
    {
      "cell_type": "markdown",
      "metadata": {
        "id": "ekbj7vc620Si"
      },
      "source": [
        "\n",
        "From the exploratory data Analysis we make the following observations:   \n",
        "\n",
        "1. The first column contains just the indices and is not useful so we will drop it.   \n",
        "2. The third column with customer card number is also not useful , so we will drop it.\n",
        "3. \"first name\" and \"last name\" can also be dropped.  \n",
        "4. Transaction number - is it really needed? can be dropped.\n",
        "5. Date time column can be used to calculate the age of the customer\n"
      ]
    },
    {
      "cell_type": "markdown",
      "metadata": {
        "id": "u00umdUC20Sj"
      },
      "source": [
        "#### 3.1 Dropping the columns not needed\n"
      ]
    },
    {
      "cell_type": "code",
      "execution_count": null,
      "metadata": {
        "id": "jrYqT-zA20Sj"
      },
      "outputs": [],
      "source": [
        "# function to drop tbe columns\n",
        "def dropCol(data):\n",
        "    col_to_drop = ['trans_date_trans_time','Unnamed: 0','cc_num','first','last','trans_num']\n",
        "    res = data.drop(col_to_drop,axis = 1)\n",
        "    return res\n"
      ]
    },
    {
      "cell_type": "code",
      "execution_count": null,
      "metadata": {
        "id": "6ugn_tVS20Sj",
        "outputId": "372b692f-8d8d-47e3-8a67-1c1d441a05a1"
      },
      "outputs": [
        {
          "name": "stdout",
          "output_type": "stream",
          "text": [
            "(129668, 17) (27786, 17)\n"
          ]
        }
      ],
      "source": [
        "# dropping the columns\n",
        "# dropping the columns ['trans_date_trans_time','Unnamed: 0','cc_num','first','last','trans_num']\n",
        "# train data set\n",
        "df_train = dropCol(df_train)\n",
        "# test data set\n",
        "df_test = dropCol(df_test)\n",
        "\n",
        "print ( df_train.shape, df_test.shape)"
      ]
    },
    {
      "cell_type": "markdown",
      "metadata": {
        "id": "qFEwTPKh20Sk"
      },
      "source": [
        "#### 3.2 Dropping the columns not needed\n"
      ]
    },
    {
      "cell_type": "code",
      "execution_count": null,
      "metadata": {
        "id": "7ObBkvHF20Sk",
        "outputId": "3d12a4fa-b6f2-4839-8fb0-779757a16cf3"
      },
      "outputs": [
        {
          "name": "stdout",
          "output_type": "stream",
          "text": [
            "(129668, 16) (129668,) (27786, 16) (27786,)\n"
          ]
        }
      ],
      "source": [
        "#Create independent and Dependent Features\n",
        "columns = df_train.columns.tolist()\n",
        "\n",
        "# removing the dependent feature is_fraud\n",
        "columns = [c for c in columns if c not in [\"is_fraud\"]]\n",
        "\n",
        "X_train = df_train[columns]\n",
        "Y_train = df_train['is_fraud']\n",
        "X_test = df_test[columns]\n",
        "Y_test = df_test['is_fraud']\n",
        "print ( X_train.shape, Y_train.shape,X_test.shape, Y_test.shape)"
      ]
    },
    {
      "cell_type": "markdown",
      "metadata": {
        "id": "EOeTAo9N20Sk"
      },
      "source": [
        "#### 3.3 Converting dob to age\n"
      ]
    },
    {
      "cell_type": "code",
      "execution_count": null,
      "metadata": {
        "scrolled": true,
        "id": "Q6xux_2w20Sl",
        "outputId": "50e55d59-6d71-4ee8-f49f-a7d0f1f4c55d"
      },
      "outputs": [
        {
          "name": "stdout",
          "output_type": "stream",
          "text": [
            "(129668, 16) (27786, 16)\n"
          ]
        }
      ],
      "source": [
        "# function to convert dob to years\n",
        "def age_years(born):\n",
        "    return 2019 - int(born[0:4])\n",
        "\n",
        "# replacing the dob column with age column in our data set for test and train\n",
        "X_train['age'] = X_train['dob'].apply(lambda x: age_years(x))\n",
        "X_train = X_train.drop(['dob'],axis =1)\n",
        "\n",
        "X_test['age'] = X_test['dob'].apply(lambda x: age_years(x))\n",
        "X_test = X_test.drop(['dob'],axis =1)\n",
        "print(X_train.shape,X_test.shape)\n"
      ]
    },
    {
      "cell_type": "code",
      "execution_count": null,
      "metadata": {
        "id": "6u8QBR0G20Sl",
        "outputId": "4858c48d-62a1-4d19-d536-445eada57adc"
      },
      "outputs": [
        {
          "data": {
            "text/html": [
              "<div>\n",
              "<style scoped>\n",
              "    .dataframe tbody tr th:only-of-type {\n",
              "        vertical-align: middle;\n",
              "    }\n",
              "\n",
              "    .dataframe tbody tr th {\n",
              "        vertical-align: top;\n",
              "    }\n",
              "\n",
              "    .dataframe thead th {\n",
              "        text-align: right;\n",
              "    }\n",
              "</style>\n",
              "<table border=\"1\" class=\"dataframe\">\n",
              "  <thead>\n",
              "    <tr style=\"text-align: right;\">\n",
              "      <th></th>\n",
              "      <th>merchant</th>\n",
              "      <th>category</th>\n",
              "      <th>amt</th>\n",
              "      <th>gender</th>\n",
              "      <th>street</th>\n",
              "      <th>city</th>\n",
              "      <th>state</th>\n",
              "      <th>zip</th>\n",
              "      <th>lat</th>\n",
              "      <th>long</th>\n",
              "      <th>city_pop</th>\n",
              "      <th>job</th>\n",
              "      <th>unix_time</th>\n",
              "      <th>merch_lat</th>\n",
              "      <th>merch_long</th>\n",
              "      <th>age</th>\n",
              "    </tr>\n",
              "  </thead>\n",
              "  <tbody>\n",
              "    <tr>\n",
              "      <th>94102</th>\n",
              "      <td>fraud_Funk Group</td>\n",
              "      <td>grocery_net</td>\n",
              "      <td>20.00</td>\n",
              "      <td>F</td>\n",
              "      <td>31701 Tucker Square Suite 893</td>\n",
              "      <td>Wilton</td>\n",
              "      <td>ND</td>\n",
              "      <td>58579</td>\n",
              "      <td>47.1709</td>\n",
              "      <td>-100.7944</td>\n",
              "      <td>1190</td>\n",
              "      <td>Designer, ceramics/pottery</td>\n",
              "      <td>1330158280</td>\n",
              "      <td>46.398331</td>\n",
              "      <td>-99.813959</td>\n",
              "      <td>71</td>\n",
              "    </tr>\n",
              "    <tr>\n",
              "      <th>198791</th>\n",
              "      <td>fraud_Prosacco, Kreiger and Kovacek</td>\n",
              "      <td>home</td>\n",
              "      <td>284.88</td>\n",
              "      <td>F</td>\n",
              "      <td>79209 Gary Dale</td>\n",
              "      <td>Colton</td>\n",
              "      <td>WA</td>\n",
              "      <td>99113</td>\n",
              "      <td>46.5901</td>\n",
              "      <td>-117.1692</td>\n",
              "      <td>761</td>\n",
              "      <td>Chief Marketing Officer</td>\n",
              "      <td>1334260215</td>\n",
              "      <td>45.687331</td>\n",
              "      <td>-117.488135</td>\n",
              "      <td>76</td>\n",
              "    </tr>\n",
              "    <tr>\n",
              "      <th>1238587</th>\n",
              "      <td>fraud_Langworth, Boehm and Gulgowski</td>\n",
              "      <td>shopping_net</td>\n",
              "      <td>5.07</td>\n",
              "      <td>F</td>\n",
              "      <td>034 Kimberly Mountains</td>\n",
              "      <td>Brandon</td>\n",
              "      <td>FL</td>\n",
              "      <td>33510</td>\n",
              "      <td>27.9551</td>\n",
              "      <td>-82.2966</td>\n",
              "      <td>79613</td>\n",
              "      <td>Environmental consultant</td>\n",
              "      <td>1370037053</td>\n",
              "      <td>27.254081</td>\n",
              "      <td>-81.974799</td>\n",
              "      <td>41</td>\n",
              "    </tr>\n",
              "    <tr>\n",
              "      <th>619078</th>\n",
              "      <td>fraud_Conroy-Emard</td>\n",
              "      <td>food_dining</td>\n",
              "      <td>45.38</td>\n",
              "      <td>F</td>\n",
              "      <td>9345 Spencer Junctions Suite 183</td>\n",
              "      <td>Alpharetta</td>\n",
              "      <td>GA</td>\n",
              "      <td>30009</td>\n",
              "      <td>34.0770</td>\n",
              "      <td>-84.3033</td>\n",
              "      <td>165556</td>\n",
              "      <td>Prison officer</td>\n",
              "      <td>1348160812</td>\n",
              "      <td>34.551957</td>\n",
              "      <td>-83.374265</td>\n",
              "      <td>22</td>\n",
              "    </tr>\n",
              "    <tr>\n",
              "      <th>573850</th>\n",
              "      <td>fraud_Adams-Barrows</td>\n",
              "      <td>health_fitness</td>\n",
              "      <td>27.52</td>\n",
              "      <td>M</td>\n",
              "      <td>09419 Lewis Rapids</td>\n",
              "      <td>Bay City</td>\n",
              "      <td>MI</td>\n",
              "      <td>48706</td>\n",
              "      <td>43.6088</td>\n",
              "      <td>-83.9530</td>\n",
              "      <td>67858</td>\n",
              "      <td>Water quality scientist</td>\n",
              "      <td>1346455370</td>\n",
              "      <td>43.032957</td>\n",
              "      <td>-83.521294</td>\n",
              "      <td>24</td>\n",
              "    </tr>\n",
              "    <tr>\n",
              "      <th>...</th>\n",
              "      <td>...</td>\n",
              "      <td>...</td>\n",
              "      <td>...</td>\n",
              "      <td>...</td>\n",
              "      <td>...</td>\n",
              "      <td>...</td>\n",
              "      <td>...</td>\n",
              "      <td>...</td>\n",
              "      <td>...</td>\n",
              "      <td>...</td>\n",
              "      <td>...</td>\n",
              "      <td>...</td>\n",
              "      <td>...</td>\n",
              "      <td>...</td>\n",
              "      <td>...</td>\n",
              "      <td>...</td>\n",
              "    </tr>\n",
              "    <tr>\n",
              "      <th>944454</th>\n",
              "      <td>fraud_Reichert-Weissnat</td>\n",
              "      <td>travel</td>\n",
              "      <td>5.83</td>\n",
              "      <td>F</td>\n",
              "      <td>6911 Nicholas Keys Apt. 237</td>\n",
              "      <td>Armagh</td>\n",
              "      <td>PA</td>\n",
              "      <td>15920</td>\n",
              "      <td>40.4603</td>\n",
              "      <td>-79.0097</td>\n",
              "      <td>922</td>\n",
              "      <td>Early years teacher</td>\n",
              "      <td>1358007774</td>\n",
              "      <td>40.522369</td>\n",
              "      <td>-79.314668</td>\n",
              "      <td>47</td>\n",
              "    </tr>\n",
              "    <tr>\n",
              "      <th>23683</th>\n",
              "      <td>fraud_Baumbach, Strosin and Nicolas</td>\n",
              "      <td>shopping_pos</td>\n",
              "      <td>1.96</td>\n",
              "      <td>F</td>\n",
              "      <td>27479 Reeves Dale</td>\n",
              "      <td>Whaleyville</td>\n",
              "      <td>MD</td>\n",
              "      <td>21872</td>\n",
              "      <td>38.4121</td>\n",
              "      <td>-75.2811</td>\n",
              "      <td>718</td>\n",
              "      <td>Regulatory affairs officer</td>\n",
              "      <td>1326572609</td>\n",
              "      <td>38.534192</td>\n",
              "      <td>-76.161654</td>\n",
              "      <td>34</td>\n",
              "    </tr>\n",
              "    <tr>\n",
              "      <th>296375</th>\n",
              "      <td>fraud_Lubowitz-Walter</td>\n",
              "      <td>kids_pets</td>\n",
              "      <td>26.59</td>\n",
              "      <td>F</td>\n",
              "      <td>72966 Shannon Pass Apt. 391</td>\n",
              "      <td>Bauxite</td>\n",
              "      <td>AR</td>\n",
              "      <td>72011</td>\n",
              "      <td>34.5091</td>\n",
              "      <td>-92.4828</td>\n",
              "      <td>4074</td>\n",
              "      <td>Scientist, audiological</td>\n",
              "      <td>1337963080</td>\n",
              "      <td>35.175647</td>\n",
              "      <td>-91.740062</td>\n",
              "      <td>44</td>\n",
              "    </tr>\n",
              "    <tr>\n",
              "      <th>306312</th>\n",
              "      <td>fraud_Runolfsdottir, Mueller and Hand</td>\n",
              "      <td>entertainment</td>\n",
              "      <td>6.00</td>\n",
              "      <td>M</td>\n",
              "      <td>3283 James Station</td>\n",
              "      <td>Fayetteville</td>\n",
              "      <td>NC</td>\n",
              "      <td>28314</td>\n",
              "      <td>35.0583</td>\n",
              "      <td>-79.0080</td>\n",
              "      <td>238602</td>\n",
              "      <td>Scientist, research (maths)</td>\n",
              "      <td>1338216727</td>\n",
              "      <td>34.360264</td>\n",
              "      <td>-78.128199</td>\n",
              "      <td>26</td>\n",
              "    </tr>\n",
              "    <tr>\n",
              "      <th>1171139</th>\n",
              "      <td>fraud_Boehm, Predovic and Reinger</td>\n",
              "      <td>misc_pos</td>\n",
              "      <td>44.70</td>\n",
              "      <td>M</td>\n",
              "      <td>8415 Vaughn Squares Apt. 788</td>\n",
              "      <td>Acworth</td>\n",
              "      <td>NH</td>\n",
              "      <td>3601</td>\n",
              "      <td>43.1960</td>\n",
              "      <td>-72.3001</td>\n",
              "      <td>477</td>\n",
              "      <td>Naval architect</td>\n",
              "      <td>1367637527</td>\n",
              "      <td>44.156195</td>\n",
              "      <td>-73.285582</td>\n",
              "      <td>31</td>\n",
              "    </tr>\n",
              "  </tbody>\n",
              "</table>\n",
              "<p>129668 rows × 16 columns</p>\n",
              "</div>"
            ],
            "text/plain": [
              "                                      merchant        category     amt gender  \\\n",
              "94102                         fraud_Funk Group     grocery_net   20.00      F   \n",
              "198791     fraud_Prosacco, Kreiger and Kovacek            home  284.88      F   \n",
              "1238587   fraud_Langworth, Boehm and Gulgowski    shopping_net    5.07      F   \n",
              "619078                      fraud_Conroy-Emard     food_dining   45.38      F   \n",
              "573850                     fraud_Adams-Barrows  health_fitness   27.52      M   \n",
              "...                                        ...             ...     ...    ...   \n",
              "944454                 fraud_Reichert-Weissnat          travel    5.83      F   \n",
              "23683      fraud_Baumbach, Strosin and Nicolas    shopping_pos    1.96      F   \n",
              "296375                   fraud_Lubowitz-Walter       kids_pets   26.59      F   \n",
              "306312   fraud_Runolfsdottir, Mueller and Hand   entertainment    6.00      M   \n",
              "1171139      fraud_Boehm, Predovic and Reinger        misc_pos   44.70      M   \n",
              "\n",
              "                                   street          city state    zip      lat  \\\n",
              "94102       31701 Tucker Square Suite 893        Wilton    ND  58579  47.1709   \n",
              "198791                    79209 Gary Dale        Colton    WA  99113  46.5901   \n",
              "1238587            034 Kimberly Mountains       Brandon    FL  33510  27.9551   \n",
              "619078   9345 Spencer Junctions Suite 183    Alpharetta    GA  30009  34.0770   \n",
              "573850                 09419 Lewis Rapids      Bay City    MI  48706  43.6088   \n",
              "...                                   ...           ...   ...    ...      ...   \n",
              "944454        6911 Nicholas Keys Apt. 237        Armagh    PA  15920  40.4603   \n",
              "23683                   27479 Reeves Dale   Whaleyville    MD  21872  38.4121   \n",
              "296375        72966 Shannon Pass Apt. 391       Bauxite    AR  72011  34.5091   \n",
              "306312                 3283 James Station  Fayetteville    NC  28314  35.0583   \n",
              "1171139      8415 Vaughn Squares Apt. 788       Acworth    NH   3601  43.1960   \n",
              "\n",
              "             long  city_pop                          job   unix_time  \\\n",
              "94102   -100.7944      1190   Designer, ceramics/pottery  1330158280   \n",
              "198791  -117.1692       761      Chief Marketing Officer  1334260215   \n",
              "1238587  -82.2966     79613     Environmental consultant  1370037053   \n",
              "619078   -84.3033    165556               Prison officer  1348160812   \n",
              "573850   -83.9530     67858      Water quality scientist  1346455370   \n",
              "...           ...       ...                          ...         ...   \n",
              "944454   -79.0097       922          Early years teacher  1358007774   \n",
              "23683    -75.2811       718   Regulatory affairs officer  1326572609   \n",
              "296375   -92.4828      4074      Scientist, audiological  1337963080   \n",
              "306312   -79.0080    238602  Scientist, research (maths)  1338216727   \n",
              "1171139  -72.3001       477              Naval architect  1367637527   \n",
              "\n",
              "         merch_lat  merch_long  age  \n",
              "94102    46.398331  -99.813959   71  \n",
              "198791   45.687331 -117.488135   76  \n",
              "1238587  27.254081  -81.974799   41  \n",
              "619078   34.551957  -83.374265   22  \n",
              "573850   43.032957  -83.521294   24  \n",
              "...            ...         ...  ...  \n",
              "944454   40.522369  -79.314668   47  \n",
              "23683    38.534192  -76.161654   34  \n",
              "296375   35.175647  -91.740062   44  \n",
              "306312   34.360264  -78.128199   26  \n",
              "1171139  44.156195  -73.285582   31  \n",
              "\n",
              "[129668 rows x 16 columns]"
            ]
          },
          "execution_count": 109,
          "metadata": {},
          "output_type": "execute_result"
        }
      ],
      "source": [
        "X_train"
      ]
    },
    {
      "cell_type": "markdown",
      "metadata": {
        "id": "yqoSHVr320Sm"
      },
      "source": [
        "#### 3.4 Converting the categorical features to numerical by one- hot - encoding\n",
        "\n"
      ]
    },
    {
      "cell_type": "code",
      "execution_count": null,
      "metadata": {
        "id": "GtGLDTmT20Sm",
        "outputId": "b6ce4f15-e42c-49b0-d9d1-883d6ac3fe00"
      },
      "outputs": [
        {
          "data": {
            "text/plain": [
              "(157454, 16)"
            ]
          },
          "execution_count": 21,
          "metadata": {},
          "output_type": "execute_result"
        }
      ],
      "source": [
        "# concanating the test and train data so that number of columns remain the same in both the data sets\n",
        "final_df = pd.concat([X_train,X_test],axis=0)\n",
        "final_df.shape\n"
      ]
    },
    {
      "cell_type": "code",
      "execution_count": null,
      "metadata": {
        "id": "NXviVtMt20Sx",
        "outputId": "9db7d485-4af0-4fa3-f8d3-090d9cad764f"
      },
      "outputs": [
        {
          "data": {
            "text/plain": [
              "['merchant', 'category', 'gender', 'street', 'city', 'state', 'job']"
            ]
          },
          "execution_count": 22,
          "metadata": {},
          "output_type": "execute_result"
        }
      ],
      "source": [
        "# creating the list of categorical variables\n",
        "categorical_features =[feature for feature in X_train.columns if final_df[feature].dtypes == 'O']\n",
        "categorical_features"
      ]
    },
    {
      "cell_type": "code",
      "execution_count": null,
      "metadata": {
        "id": "YESNyB9t20Sy",
        "outputId": "e836099d-1f06-4a72-cfe7-b0737b16fd14"
      },
      "outputs": [
        {
          "name": "stdout",
          "output_type": "stream",
          "text": [
            "Distinct categories for merchant  are 693\n",
            "Distinct categories for category  are 14\n",
            "Distinct categories for gender  are 2\n",
            "Distinct categories for street  are 957\n",
            "Distinct categories for city  are 872\n",
            "Distinct categories for state  are 51\n",
            "Distinct categories for job  are 486\n"
          ]
        }
      ],
      "source": [
        "#observing the unique values in each feature\n",
        "for feature in categorical_features:\n",
        "    print(\"Distinct categories for {}  are {}\".format(feature,len(final_df[feature].unique())))"
      ]
    },
    {
      "cell_type": "code",
      "execution_count": null,
      "metadata": {
        "id": "19ui8Qs820Sy"
      },
      "outputs": [],
      "source": [
        "# function to convert categorical variables to one hot encoding\n",
        "def category_onehot_multcols(data,multcolumns):\n",
        "    df_final = data\n",
        "    i=0\n",
        "    for fields in multcolumns:\n",
        "        print(fields)\n",
        "        df1=pd.get_dummies(final_df[fields],drop_first=True)\n",
        "        final_df.drop([fields],axis=1,inplace=True)\n",
        "        if i==0:\n",
        "            df_final=df1.copy()\n",
        "        else:\n",
        "            df_final=pd.concat([df_final,df1],axis=1)\n",
        "        i=i+1\n",
        "    df_final=pd.concat([final_df,df_final],axis=1)\n",
        "    return df_final"
      ]
    },
    {
      "cell_type": "code",
      "execution_count": null,
      "metadata": {
        "id": "AgbT-E9I20Sz",
        "outputId": "dda79d6a-f7b2-41c4-cabf-fd3f63abba7e"
      },
      "outputs": [
        {
          "name": "stdout",
          "output_type": "stream",
          "text": [
            "merchant\n",
            "category\n",
            "gender\n",
            "street\n",
            "city\n",
            "state\n",
            "job\n"
          ]
        }
      ],
      "source": [
        "# applying the one hot encoding\n",
        "final_df = category_onehot_multcols(final_df, categorical_features)\n"
      ]
    },
    {
      "cell_type": "code",
      "execution_count": null,
      "metadata": {
        "id": "dG8wq4No20Sz",
        "outputId": "59d77703-5312-4ddb-cde4-4441d63e2e0a"
      },
      "outputs": [
        {
          "data": {
            "text/plain": [
              "(157454, 3077)"
            ]
          },
          "execution_count": 26,
          "metadata": {},
          "output_type": "execute_result"
        }
      ],
      "source": [
        "# removing duplicated columns\n",
        "final_df =final_df.loc[:,~final_df.columns.duplicated()]\n",
        "final_df.shape"
      ]
    },
    {
      "cell_type": "code",
      "execution_count": null,
      "metadata": {
        "id": "nuR51Tee20Sz",
        "outputId": "580116b0-52ac-4495-dcb7-925c881bc223"
      },
      "outputs": [
        {
          "name": "stdout",
          "output_type": "stream",
          "text": [
            "(129668, 3077) (27786, 3077)\n"
          ]
        }
      ],
      "source": [
        "# separating the test and training data\n",
        "df_Train=final_df.iloc[:129668,:]\n",
        "df_Test=final_df.iloc[129668:,:]\n",
        "print(df_Train.shape,df_Test.shape)"
      ]
    },
    {
      "cell_type": "code",
      "execution_count": null,
      "metadata": {
        "id": "hy59Wxn320S0",
        "outputId": "28321f64-044a-4040-8980-c85cacabd579"
      },
      "outputs": [
        {
          "name": "stdout",
          "output_type": "stream",
          "text": [
            "0    128963\n",
            "1       705\n",
            "Name: is_fraud, dtype: int64 \n",
            " 0    27656\n",
            "1      130\n",
            "Name: is_fraud, dtype: int64\n"
          ]
        }
      ],
      "source": [
        "print(Y_train.value_counts(),\"\\n\",Y_test.value_counts())"
      ]
    },
    {
      "cell_type": "code",
      "execution_count": null,
      "metadata": {
        "id": "EyziVVcn20S0",
        "outputId": "1fd9eca4-6145-400a-cdcb-6512d0b24ea4"
      },
      "outputs": [
        {
          "name": "stdout",
          "output_type": "stream",
          "text": [
            "(129668, 3077) (27786, 3077) (129668,) (27786,)\n"
          ]
        }
      ],
      "source": [
        "# files ready for testing on models\n",
        "print(df_Train.shape, df_Test.shape, Y_train.shape, Y_test.shape)\n"
      ]
    },
    {
      "cell_type": "code",
      "execution_count": null,
      "metadata": {
        "id": "asuZLgVL20S0",
        "outputId": "52cd7b17-b55a-4a7b-9160-16313f6c6146"
      },
      "outputs": [
        {
          "data": {
            "text/plain": [
              "0.005466684242767306"
            ]
          },
          "execution_count": 30,
          "metadata": {},
          "output_type": "execute_result"
        }
      ],
      "source": [
        "705/128963"
      ]
    },
    {
      "cell_type": "markdown",
      "metadata": {
        "id": "XhhM8D0j20S1"
      },
      "source": [
        "As we see that the data is skewed, i.e the number of samples for class 1 is less tha 0.5% of the samples of class 0.\n",
        "In this case the the machine learning algorithms with not predict the Fraud cases correctly.\n",
        "To predict the Fraud correctly we have two approaches:   \n",
        "1. Handle the imbalance in Data and apply various Machine Learning algorithms and then apply ML models.    \n",
        "2. Predict Fraud as outlier/Anomaly    \n",
        "3. Change detection is similar to anomaly detection except rather than looking for an anomaly it is looking for a change or difference. This might be a change in behavior of a user as observed by usage patterns or bank transactions.\n",
        "\n",
        "We proceed for the first method first.\n"
      ]
    },
    {
      "cell_type": "markdown",
      "metadata": {
        "id": "7pMgH9UN20S1"
      },
      "source": [
        "## 4. Handling the Imbalance in data\n",
        "\n",
        "   \n",
        "Handling the Imbalance in data by one of the following methods:   \n",
        "> 4.1 Random Under-Sampling   \n",
        "       4.2 Random Over-Sampling   \n",
        "       4.3 SMOTE (Synthetic Minority over sampling technique)   \n",
        "       4.4 Near Miss algorighm ( under sampling )   \n",
        "       4.5 Ensemble method\n",
        "   \n",
        "\n",
        "\n"
      ]
    },
    {
      "cell_type": "markdown",
      "metadata": {
        "id": "Gqx6Ohcd20S1"
      },
      "source": [
        "First we apply the model without handling the imbalance. We will use Logistic Regression and Decision Tree classifier for our exploration of the method to apply to handle imbalance in data."
      ]
    },
    {
      "cell_type": "code",
      "execution_count": null,
      "metadata": {
        "id": "Uw8flnzB20S2"
      },
      "outputs": [],
      "source": [
        "# Logistic Regression\n",
        "model_LR = LogisticRegression(random_state=137)\n",
        "model_LR.fit(df_Train,Y_train)\n",
        "y_pred = model_LR.predict(df_Test)"
      ]
    },
    {
      "cell_type": "code",
      "execution_count": null,
      "metadata": {
        "id": "pKXJuCLU20S2"
      },
      "outputs": [],
      "source": [
        "#Let's evaluate our model\n",
        "def print_eval(y_pred,model):\n",
        "    print(\"Training Accuracy: \",model.score(df_Train, Y_train))\n",
        "    print(\"Testing Accuracy: \", model.score(df_Test, Y_test))\n",
        "    cm = confusion_matrix(Y_test, y_pred)\n",
        "    print(cm)\n",
        "    print(classification_report(Y_test,y_pred))\n"
      ]
    },
    {
      "cell_type": "code",
      "execution_count": null,
      "metadata": {
        "id": "eP5QfFuL20S2",
        "outputId": "841ca316-5d31-41c1-d204-c14795e85eb6"
      },
      "outputs": [
        {
          "name": "stdout",
          "output_type": "stream",
          "text": [
            "Training Accuracy:  0.9945630379122066\n",
            "Testing Accuracy:  0.9953213848700785\n",
            "[[27656     0]\n",
            " [  130     0]]\n",
            "              precision    recall  f1-score   support\n",
            "\n",
            "           0       1.00      1.00      1.00     27656\n",
            "           1       0.00      0.00      0.00       130\n",
            "\n",
            "    accuracy                           1.00     27786\n",
            "   macro avg       0.50      0.50      0.50     27786\n",
            "weighted avg       0.99      1.00      0.99     27786\n",
            "\n"
          ]
        }
      ],
      "source": [
        "# Logistic Regression Classification results without balancong class\n",
        "print_eval(y_pred,model_LR)"
      ]
    },
    {
      "cell_type": "code",
      "execution_count": null,
      "metadata": {
        "id": "DZxnS0Ca20S2",
        "outputId": "0240f796-2f6b-47fb-bd41-c40753f1b3db"
      },
      "outputs": [
        {
          "name": "stdout",
          "output_type": "stream",
          "text": [
            "Training Accuracy:  1.0\n",
            "Testing Accuracy:  0.9866839415533002\n",
            "[[27333   323]\n",
            " [   47    83]]\n",
            "              precision    recall  f1-score   support\n",
            "\n",
            "           0       1.00      0.99      0.99     27656\n",
            "           1       0.20      0.64      0.31       130\n",
            "\n",
            "    accuracy                           0.99     27786\n",
            "   macro avg       0.60      0.81      0.65     27786\n",
            "weighted avg       0.99      0.99      0.99     27786\n",
            "\n"
          ]
        }
      ],
      "source": [
        "# decision tree\n",
        "decision_tree_model = DecisionTreeClassifier(random_state=137)\n",
        "decision_tree_model.fit(df_Train,Y_train)\n",
        "y_pred = decision_tree_model.predict(df_Test)\n",
        "# Decision Tree Classification results without balancong class\n",
        "print_eval(y_pred,decision_tree_model)"
      ]
    },
    {
      "cell_type": "code",
      "execution_count": null,
      "metadata": {
        "id": "osq8Mh2J20S3",
        "outputId": "00549a39-e561-4205-eb69-da9475bdc632"
      },
      "outputs": [
        {
          "name": "stdout",
          "output_type": "stream",
          "text": [
            "\u001b[1m  Comparitive Chart of all models\n",
            " Model                             Recall class-1 Recall class-0 f1-score class-1 f1-score class-0\n",
            "Logistic Regression                 0.00 \t\t 1.00 \t\t 0.00 \t\t 1.00\n"
          ]
        }
      ],
      "source": [
        "# helper function to print a comparitive results of all models\n",
        "model_list = {}\n",
        "def getComparitiveChart(model_list,model_name,model):\n",
        "    print('\\033[1m', \" Comparitive Chart of all models\")\n",
        "    if model_name not in model_list:\n",
        "        model_list[model_name]= model\n",
        "\n",
        "    print( \" Model                             Recall class-1 Recall class-0 f1-score class-1 f1-score class-0\")\n",
        "    for i,v in model_list.items():\n",
        "        pred = v.predict(df_Test)\n",
        "        prfs = precision_recall_fscore_support(Y_test,pred , average=None)\n",
        "        #res_recall[i] = round(prfs[1][1],2)\n",
        "        recall_0   = prfs[1][0]\n",
        "        recall_1   = prfs[1][1]\n",
        "        f1_score_0 = prfs[2][0]\n",
        "        f1_score_1 = prfs[2][1]\n",
        "\n",
        "        print(f'{f\"{i}\":<35}' ,\"{:.2f}\".format(recall_1),\"\\t\\t\",\"{:.2f}\".format(recall_0),\n",
        "               \"\\t\\t\",\"{:.2f}\".format(f1_score_1),\"\\t\\t\",\"{:.2f}\".format(f1_score_0) )\n",
        "\n",
        "getComparitiveChart(model_list,'Logistic Regression',model_LR)"
      ]
    },
    {
      "cell_type": "code",
      "execution_count": null,
      "metadata": {
        "id": "wsR83kaE20S3",
        "outputId": "dec244d1-6714-430f-81c6-6023b553b0ae"
      },
      "outputs": [
        {
          "name": "stdout",
          "output_type": "stream",
          "text": [
            "\u001b[1m  Comparitive Chart of all models\n",
            " Model                             Recall class-1 Recall class-0 f1-score class-1 f1-score class-0\n",
            "Logistic Regression                 0.00 \t\t 1.00 \t\t 0.00 \t\t 1.00\n",
            "Decision Tree                       0.64 \t\t 0.99 \t\t 0.31 \t\t 0.99\n"
          ]
        }
      ],
      "source": [
        "getComparitiveChart(model_list,'Decision Tree',decision_tree_model)"
      ]
    },
    {
      "cell_type": "markdown",
      "metadata": {
        "id": "Ehevg5gC20S3"
      },
      "source": [
        "#### Metric Analysis\n",
        "\n",
        "1. **True  Positives** : Correctly classified as Safe Transaction     = 27333 (.99)   \n",
        "2. **False Negitives** : Mis-classified Safe Transaction              = 323 (Harmless)   \n",
        "3. **False Positives** : Mis-classified as Fraud Transactions         = 47 (Dangerous )   \n",
        "4. **True Negatives**  : Correctly classified as Fraud Transactions   = 83 (out of 130 -> .64)   \n",
        "5. **Accuracy**        : .99   \n",
        "\n",
        "Here the accuracy is not taken into account as it is misleading.   \n",
        "We want to get maximum True Negatives i.e we want to predict the Fraud tranactions with maximum accuracy. This can be done by monitoring the Recall.\n",
        "\n",
        "So when the data is imbalanced the Recall is    \n",
        "class 0 (Safe) : 0.99   \n",
        "class 1 (Fraud): 0.64   \n",
        "\n",
        "**We want the recall of class 1 to be close to 1.00**    \n",
        "**We can also use f1-score as a metric to observe**\n",
        "\n",
        "\n"
      ]
    },
    {
      "cell_type": "markdown",
      "metadata": {
        "id": "fWSbP_VZ20S4"
      },
      "source": [
        "### 4.1 Implementing Random Under-sampling\n",
        "\n",
        "**Advantages**   \n",
        "- It can help improve run time and storage problems by reducing the number of training data samples when the training data set is huge.   \n",
        "\n",
        "**Disadvantages**   \n",
        "- It can discard potentially useful information which could be important for building rule classifiers.\n",
        "The sample chosen by random under sampling may be a biased sample. And it will not be an accurate representative of the population. Thereby, resulting in inaccurate results with the actual test data set.\n",
        "\n"
      ]
    },
    {
      "cell_type": "code",
      "execution_count": null,
      "metadata": {
        "id": "TocFL48u20S4",
        "outputId": "1d0f980d-491a-4fff-ebd6-47d13d2a2bed"
      },
      "outputs": [
        {
          "name": "stdout",
          "output_type": "stream",
          "text": [
            "(129668,) (129668, 3077)\n"
          ]
        },
        {
          "data": {
            "text/plain": [
              "(129668, 3078)"
            ]
          },
          "execution_count": 36,
          "metadata": {},
          "output_type": "execute_result"
        }
      ],
      "source": [
        "# adding the dependent feature in the train data set\n",
        "print(Y_train.shape,df_Train.shape)\n",
        "df_train = pd.concat([df_Train,Y_train],axis = 1)\n",
        "df_train.shape\n"
      ]
    },
    {
      "cell_type": "code",
      "execution_count": null,
      "metadata": {
        "id": "rEsNPMSX20S4",
        "outputId": "8bca70e5-a039-440b-e015-c83a74b26639"
      },
      "outputs": [
        {
          "name": "stdout",
          "output_type": "stream",
          "text": [
            "128963 705\n",
            "(128963, 3078) (705, 3078)\n"
          ]
        }
      ],
      "source": [
        "# Class count\n",
        "count_class_0, count_class_1 = df_train.is_fraud.value_counts()\n",
        "print(count_class_0, count_class_1)\n",
        "# Divide by class\n",
        "df_class_0 = df_train[df_train['is_fraud'] == 0]\n",
        "df_class_1 = df_train[df_train['is_fraud'] == 1]\n",
        "print(df_class_0.shape,df_class_1.shape)"
      ]
    },
    {
      "cell_type": "code",
      "execution_count": null,
      "metadata": {
        "id": "cl9nb65v20S4",
        "outputId": "24e3d0b1-dba2-4b2a-df72-4cd86e456b82"
      },
      "outputs": [
        {
          "name": "stdout",
          "output_type": "stream",
          "text": [
            "Random under-sampling:\n",
            "1    705\n",
            "0    705\n",
            "Name: is_fraud, dtype: int64\n"
          ]
        }
      ],
      "source": [
        "# Undersample 0-class and concat the DataFrames of both class\n",
        "df_class_0_under = df_class_0.sample(count_class_1)\n",
        "df_train_under_sample = pd.concat([df_class_0_under, df_class_1], axis=0)\n",
        "\n",
        "print('Random under-sampling:')\n",
        "print(df_train_under_sample.is_fraud.value_counts())\n"
      ]
    },
    {
      "cell_type": "code",
      "execution_count": null,
      "metadata": {
        "id": "FN3jfM1t20S5",
        "outputId": "677b476b-71dd-4aea-865b-df25b1caf173"
      },
      "outputs": [
        {
          "name": "stdout",
          "output_type": "stream",
          "text": [
            "Training Accuracy:  0.843909060061079\n",
            "Testing Accuracy:  0.8447419563809112\n",
            "[[23455  4201]\n",
            " [  113    17]]\n",
            "              precision    recall  f1-score   support\n",
            "\n",
            "           0       1.00      0.85      0.92     27656\n",
            "           1       0.00      0.13      0.01       130\n",
            "\n",
            "    accuracy                           0.84     27786\n",
            "   macro avg       0.50      0.49      0.46     27786\n",
            "weighted avg       0.99      0.84      0.91     27786\n",
            "\n"
          ]
        }
      ],
      "source": [
        "# training and predictions : Logistic Regression Under Sampling\n",
        "X = df_train_under_sample.drop('is_fraud',axis='columns')\n",
        "y = df_train_under_sample['is_fraud']\n",
        "model_LR_under_sample = LogisticRegression(random_state=137)\n",
        "model_LR_under_sample.fit(X,y)\n",
        "y_pred = model_LR_under_sample.predict(df_Test)\n",
        "print_eval(y_pred,model_LR_under_sample)"
      ]
    },
    {
      "cell_type": "code",
      "execution_count": null,
      "metadata": {
        "id": "q7YgdIvJ20S5",
        "outputId": "9b4ec2d1-54c8-4ff9-d1b7-d82516fc381f"
      },
      "outputs": [
        {
          "name": "stdout",
          "output_type": "stream",
          "text": [
            "Training Accuracy:  0.9302140852022087\n",
            "Testing Accuracy:  0.9329878356006622\n",
            "[[25797  1859]\n",
            " [    3   127]]\n",
            "              precision    recall  f1-score   support\n",
            "\n",
            "           0       1.00      0.93      0.97     27656\n",
            "           1       0.06      0.98      0.12       130\n",
            "\n",
            "    accuracy                           0.93     27786\n",
            "   macro avg       0.53      0.95      0.54     27786\n",
            "weighted avg       1.00      0.93      0.96     27786\n",
            "\n"
          ]
        }
      ],
      "source": [
        "# training and predictions : decision tree Regression Under Sampling\n",
        "decision_tree_model_undersample = DecisionTreeClassifier(random_state=137)\n",
        "decision_tree_model_undersample.fit(X,y)\n",
        "y_pred = decision_tree_model_undersample.predict(df_Test)\n",
        "print_eval(y_pred,decision_tree_model_undersample)"
      ]
    },
    {
      "cell_type": "code",
      "execution_count": null,
      "metadata": {
        "id": "UMf_HpCm20S5",
        "outputId": "23a05482-adb6-4c10-d8e9-c8b92b81cde5"
      },
      "outputs": [
        {
          "name": "stdout",
          "output_type": "stream",
          "text": [
            "\u001b[1m  Comparitive Chart of all models\n",
            " Model                             Recall class-1 Recall class-0 f1-score class-1 f1-score class-0\n",
            "Logistic Regression                 0.00 \t\t 1.00 \t\t 0.00 \t\t 1.00\n",
            "Decision Tree                       0.64 \t\t 0.99 \t\t 0.31 \t\t 0.99\n",
            "Logistic Regression Under Sample    0.13 \t\t 0.85 \t\t 0.01 \t\t 0.92\n"
          ]
        }
      ],
      "source": [
        "getComparitiveChart(model_list,'Logistic Regression Under Sample',model_LR_under_sample)\n",
        "\n"
      ]
    },
    {
      "cell_type": "code",
      "execution_count": null,
      "metadata": {
        "id": "UQA4Y-BN20S6",
        "outputId": "9671284a-ce2c-4420-c8bb-ce0e03f135ff"
      },
      "outputs": [
        {
          "name": "stdout",
          "output_type": "stream",
          "text": [
            "\u001b[1m  Comparitive Chart of all models\n",
            " Model                             Recall class-1 Recall class-0 f1-score class-1 f1-score class-0\n",
            "Logistic Regression                 0.00 \t\t 1.00 \t\t 0.00 \t\t 1.00\n",
            "Decision Tree                       0.64 \t\t 0.99 \t\t 0.31 \t\t 0.99\n",
            "Logistic Regression Under Sample    0.13 \t\t 0.85 \t\t 0.01 \t\t 0.92\n",
            "Decision Tree Under Sample          0.98 \t\t 0.93 \t\t 0.12 \t\t 0.97\n"
          ]
        }
      ],
      "source": [
        "getComparitiveChart(model_list,'Decision Tree Under Sample',decision_tree_model_undersample)"
      ]
    },
    {
      "cell_type": "markdown",
      "metadata": {
        "id": "GEkbVBnn20S6"
      },
      "source": [
        "### Comparision of results and Observations :\n",
        "\n",
        "|                                       | Class-0 Recall| Class-1 Recall|Class-0 f1-score| Class-1 f1-score|\n",
        "|---------------------------------------|---------------|---------------|----------------|-----------------|\n",
        "|Logistic Regression                    |     1.00      |     0.00      |     1.00       |      0.00       |\n",
        "|Decision Tree Classifier               |     0.99      |     0.64      |     0.99       |      0.31       |\n",
        "|Logistic Regression Under Sampling     |     1.00      |     0.00      |     1.00       |      0.50       |\n",
        "|Decision Tree Classifier Under Sampling|     0.94      |     0.95      |     0.97       |      0.13       |\n"
      ]
    },
    {
      "cell_type": "markdown",
      "metadata": {
        "id": "qWKarIUA20S6"
      },
      "source": [
        "### 4.2 Implementing Random Over-sampling\n",
        "\n",
        "**Advantages**\n",
        "- Unlike under sampling this method leads to no information loss.\n",
        "- Outperforms under sampling  \n",
        "\n",
        "**Disadvantages**\n",
        "- It increases the likelihood of overfitting since it replicates the minority class events.\n"
      ]
    },
    {
      "cell_type": "code",
      "execution_count": null,
      "metadata": {
        "id": "28jYR0OF20S6",
        "outputId": "16063f04-8be3-4ce1-946a-9f90c1de8d8c"
      },
      "outputs": [
        {
          "name": "stdout",
          "output_type": "stream",
          "text": [
            "128963 705\n",
            "(128963, 3078) (705, 3078)\n"
          ]
        }
      ],
      "source": [
        "# Class count\n",
        "count_class_0, count_class_1 = df_train.is_fraud.value_counts()\n",
        "print(count_class_0, count_class_1)\n",
        "# Divide by class\n",
        "df_class_0 = df_train[df_train['is_fraud'] == 0]\n",
        "df_class_1 = df_train[df_train['is_fraud'] == 1]\n",
        "print(df_class_0.shape,df_class_1.shape)"
      ]
    },
    {
      "cell_type": "code",
      "execution_count": null,
      "metadata": {
        "id": "3Z1Go7EA20S7",
        "outputId": "5cf31480-9eb6-462e-eb2b-864d35c307b2"
      },
      "outputs": [
        {
          "name": "stdout",
          "output_type": "stream",
          "text": [
            "Random over-sampling:\n",
            "1    128963\n",
            "0    128963\n",
            "Name: is_fraud, dtype: int64\n"
          ]
        }
      ],
      "source": [
        "# Oversample 1-class and concat the DataFrames of both class\n",
        "df_class_1_over = df_class_1.sample(count_class_0,replace=True)\n",
        "df_train_over_sample = pd.concat([df_class_0, df_class_1_over], axis=0)\n",
        "\n",
        "print('Random over-sampling:')\n",
        "\n",
        "print(df_train_over_sample.is_fraud.value_counts())"
      ]
    },
    {
      "cell_type": "code",
      "execution_count": null,
      "metadata": {
        "id": "aLI5LpIz20S7",
        "outputId": "e9db1975-b8ea-441f-d78c-d6c62ae478d5"
      },
      "outputs": [
        {
          "name": "stdout",
          "output_type": "stream",
          "text": [
            "Training Accuracy:  0.8594564580312799\n",
            "Testing Accuracy:  0.8624847045274598\n",
            "[[23953  3703]\n",
            " [  118    12]]\n",
            "              precision    recall  f1-score   support\n",
            "\n",
            "           0       1.00      0.87      0.93     27656\n",
            "           1       0.00      0.09      0.01       130\n",
            "\n",
            "    accuracy                           0.86     27786\n",
            "   macro avg       0.50      0.48      0.47     27786\n",
            "weighted avg       0.99      0.86      0.92     27786\n",
            "\n"
          ]
        }
      ],
      "source": [
        "# training and predictions : Logistic Regression\n",
        "X = df_train_over_sample.drop('is_fraud',axis='columns')\n",
        "y = df_train_over_sample['is_fraud']\n",
        "model_LR_over_sample = LogisticRegression(random_state=137)\n",
        "model_LR_over_sample.fit(X,y)\n",
        "y_pred = model_LR_over_sample.predict(df_Test)\n",
        "print_eval(y_pred,model_LR_over_sample)"
      ]
    },
    {
      "cell_type": "code",
      "execution_count": null,
      "metadata": {
        "id": "K-esO8Yb20S7",
        "outputId": "528996ad-fbf9-4d4f-d144-5aa3d66bcdac"
      },
      "outputs": [
        {
          "name": "stdout",
          "output_type": "stream",
          "text": [
            "Training Accuracy:  1.0\n",
            "Testing Accuracy:  0.9938818109839488\n",
            "[[27583    73]\n",
            " [   97    33]]\n",
            "              precision    recall  f1-score   support\n",
            "\n",
            "           0       1.00      1.00      1.00     27656\n",
            "           1       0.31      0.25      0.28       130\n",
            "\n",
            "    accuracy                           0.99     27786\n",
            "   macro avg       0.65      0.63      0.64     27786\n",
            "weighted avg       0.99      0.99      0.99     27786\n",
            "\n"
          ]
        }
      ],
      "source": [
        "# training and predictions : decision tree\n",
        "decision_tree_model_over_sample = DecisionTreeClassifier(random_state=137)\n",
        "decision_tree_model_over_sample.fit(X,y)\n",
        "y_pred = decision_tree_model_over_sample.predict(df_Test)\n",
        "print_eval(y_pred,decision_tree_model_over_sample)"
      ]
    },
    {
      "cell_type": "code",
      "execution_count": null,
      "metadata": {
        "id": "6YGER_yJ20S8",
        "outputId": "4207f39b-d743-4252-ec58-2295f136e855"
      },
      "outputs": [
        {
          "name": "stdout",
          "output_type": "stream",
          "text": [
            "\u001b[1m  Comparitive Chart of all models\n",
            " Model                             Recall class-1 Recall class-0 f1-score class-1 f1-score class-0\n",
            "Logistic Regression                 0.00 \t\t 1.00 \t\t 0.00 \t\t 1.00\n",
            "Decision Tree                       0.64 \t\t 0.99 \t\t 0.31 \t\t 0.99\n",
            "Logistic Regression Under Sample    0.13 \t\t 0.85 \t\t 0.01 \t\t 0.92\n",
            "Decision Tree Under Sample          0.98 \t\t 0.93 \t\t 0.12 \t\t 0.97\n",
            "Logistic Regression Over Sample     0.09 \t\t 0.87 \t\t 0.01 \t\t 0.93\n"
          ]
        }
      ],
      "source": [
        "getComparitiveChart(model_list,'Logistic Regression Over Sample',model_LR_over_sample)\n"
      ]
    },
    {
      "cell_type": "code",
      "execution_count": null,
      "metadata": {
        "id": "dMao_ZQD20S8",
        "outputId": "9abc9405-a78e-4cc5-c814-ebee1b5d82a9"
      },
      "outputs": [
        {
          "name": "stdout",
          "output_type": "stream",
          "text": [
            "\u001b[1m  Comparitive Chart of all models\n",
            " Model                             Recall class-1 Recall class-0 f1-score class-1 f1-score class-0\n",
            "Logistic Regression                 0.00 \t\t 1.00 \t\t 0.00 \t\t 1.00\n",
            "Decision Tree                       0.64 \t\t 0.99 \t\t 0.31 \t\t 0.99\n",
            "Logistic Regression Under Sample    0.13 \t\t 0.85 \t\t 0.01 \t\t 0.92\n",
            "Decision Tree Under Sample          0.98 \t\t 0.93 \t\t 0.12 \t\t 0.97\n",
            "Logistic Regression Over Sample     0.09 \t\t 0.87 \t\t 0.01 \t\t 0.93\n",
            "Decision Tree Over Sample           0.25 \t\t 1.00 \t\t 0.28 \t\t 1.00\n"
          ]
        }
      ],
      "source": [
        "\n",
        "getComparitiveChart(model_list,'Decision Tree Over Sample',decision_tree_model_over_sample)"
      ]
    },
    {
      "cell_type": "markdown",
      "metadata": {
        "id": "j53KP6K720S8"
      },
      "source": [
        "### 4.3 Implementing SMOTE (Synthetic Minority Over Sampling Technique) - Informed Over Sampling\n",
        "\n",
        "SMOTE algorithm works in 4 simple steps:\n",
        "\n",
        "- Choose a minority class as the input vector\n",
        "- Find its k nearest neighbors (k_neighbors is specified as an argument in the SMOTE() function,defalut value is 5)\n",
        "- Choose one of these neighbors and place a synthetic point anywhere on the line joining the point under consideration and its chosen neighbor\n",
        "- Repeat the steps until data is balanced\n",
        "\n",
        "**Advantages**\n",
        "- Mitigates the problem of overfitting caused by random oversampling as synthetic examples are generated rather than replication of instances   \n",
        "- No loss of useful information   \n",
        "\n",
        "**Disadvantages**\n",
        "- While generating synthetic examples SMOTE does not take into consideration neighboring examples from other classes. This can result in increase in overlapping of classes and can introduce additional noise   \n",
        "- SMOTE is not very effective for high dimensional data"
      ]
    },
    {
      "cell_type": "code",
      "execution_count": null,
      "metadata": {
        "id": "DylXqX5b20S8",
        "outputId": "2abe5a1a-38cf-4d1c-ff0e-095feaea0895"
      },
      "outputs": [
        {
          "name": "stdout",
          "output_type": "stream",
          "text": [
            "(129668, 3077) (27786, 3077)\n"
          ]
        }
      ],
      "source": [
        "print(df_Train.shape,df_Test.shape)"
      ]
    },
    {
      "cell_type": "code",
      "execution_count": null,
      "metadata": {
        "id": "bWPMoG_y20S9",
        "outputId": "617cadf4-b67b-49d6-d52d-5b0232d53586"
      },
      "outputs": [
        {
          "data": {
            "text/plain": [
              "1    128963\n",
              "0    128963\n",
              "Name: is_fraud, dtype: int64"
            ]
          },
          "execution_count": 72,
          "metadata": {},
          "output_type": "execute_result"
        }
      ],
      "source": [
        "# smote implementation\n",
        "smote = SMOTE(sampling_strategy = 'minority')\n",
        "X_sm, y_sm = smote.fit_sample(df_Train, Y_train)\n",
        "y_sm.value_counts()"
      ]
    },
    {
      "cell_type": "code",
      "execution_count": null,
      "metadata": {
        "id": "1uuLl9V820S9",
        "outputId": "f6a728bf-7733-4747-c171-ccb06589a3d3"
      },
      "outputs": [
        {
          "name": "stdout",
          "output_type": "stream",
          "text": [
            "Training Accuracy:  0.4928972452725422\n",
            "Testing Accuracy:  0.47970200820557113\n",
            "[[13272 14384]\n",
            " [   73    57]]\n",
            "              precision    recall  f1-score   support\n",
            "\n",
            "           0       0.99      0.48      0.65     27656\n",
            "           1       0.00      0.44      0.01       130\n",
            "\n",
            "    accuracy                           0.48     27786\n",
            "   macro avg       0.50      0.46      0.33     27786\n",
            "weighted avg       0.99      0.48      0.64     27786\n",
            "\n"
          ]
        }
      ],
      "source": [
        "# training and predictions : Logistic Regression\n",
        "\n",
        "model_LR_smote = LogisticRegression(random_state=137)\n",
        "model_LR_smote.fit(X_sm,y_sm)\n",
        "y_pred = model_LR_smote.predict(df_Test)\n",
        "print_eval(y_pred,model_LR_smote)"
      ]
    },
    {
      "cell_type": "code",
      "execution_count": null,
      "metadata": {
        "scrolled": true,
        "id": "sLuokVwT20S9",
        "outputId": "713ddf30-a1c7-40af-c260-0faca9deed98"
      },
      "outputs": [
        {
          "name": "stdout",
          "output_type": "stream",
          "text": [
            "Training Accuracy:  1.0\n",
            "Testing Accuracy:  0.991542503418988\n",
            "[[27478   178]\n",
            " [   57    73]]\n",
            "              precision    recall  f1-score   support\n",
            "\n",
            "           0       1.00      0.99      1.00     27656\n",
            "           1       0.29      0.56      0.38       130\n",
            "\n",
            "    accuracy                           0.99     27786\n",
            "   macro avg       0.64      0.78      0.69     27786\n",
            "weighted avg       0.99      0.99      0.99     27786\n",
            "\n"
          ]
        }
      ],
      "source": [
        "# training and predictions : decision tree\n",
        "decision_tree_model_smote = DecisionTreeClassifier(random_state=137)\n",
        "decision_tree_model_smote.fit(X_sm,y_sm)\n",
        "y_pred = decision_tree_model_smote.predict(df_Test)\n",
        "print_eval(y_pred,decision_tree_model_smote)"
      ]
    },
    {
      "cell_type": "code",
      "execution_count": null,
      "metadata": {
        "id": "-0EmVrc820S9",
        "outputId": "408c924f-d892-447d-89de-eb23ecdf6af7"
      },
      "outputs": [
        {
          "name": "stdout",
          "output_type": "stream",
          "text": [
            "\u001b[1m  Comparitive Chart of all models\n",
            " Model                             Recall class-1 Recall class-0 f1-score class-1 f1-score class-0\n",
            "Logistic Regression                 0.00 \t\t 1.00 \t\t 0.00 \t\t 1.00\n",
            "Decision Tree                       0.64 \t\t 0.99 \t\t 0.31 \t\t 0.99\n",
            "Logistic Regression Under Sample    0.13 \t\t 0.85 \t\t 0.01 \t\t 0.92\n",
            "Decision Tree Under Sample          0.98 \t\t 0.93 \t\t 0.12 \t\t 0.97\n",
            "Logistic Regression Over Sample     0.09 \t\t 0.87 \t\t 0.01 \t\t 0.93\n",
            "Decision Tree Over Sample           0.25 \t\t 1.00 \t\t 0.28 \t\t 1.00\n",
            "Logistic Regression SMOTE           0.44 \t\t 0.48 \t\t 0.01 \t\t 0.65\n"
          ]
        }
      ],
      "source": [
        "getComparitiveChart(model_list,'Logistic Regression SMOTE',model_LR_smote)"
      ]
    },
    {
      "cell_type": "code",
      "execution_count": null,
      "metadata": {
        "id": "Z3Z1dqRJ20S-",
        "outputId": "a2830dc8-a937-4621-8011-c6513cb94181"
      },
      "outputs": [
        {
          "name": "stdout",
          "output_type": "stream",
          "text": [
            "\u001b[1m  Comparitive Chart of all models\n",
            " Model                             Recall class-1 Recall class-0 f1-score class-1 f1-score class-0\n",
            "Logistic Regression                 0.00 \t\t 1.00 \t\t 0.00 \t\t 1.00\n",
            "Decision Tree                       0.64 \t\t 0.99 \t\t 0.31 \t\t 0.99\n",
            "Logistic Regression Under Sample    0.13 \t\t 0.85 \t\t 0.01 \t\t 0.92\n",
            "Decision Tree Under Sample          0.98 \t\t 0.93 \t\t 0.12 \t\t 0.97\n",
            "Logistic Regression Over Sample     0.09 \t\t 0.87 \t\t 0.01 \t\t 0.93\n",
            "Decision Tree Over Sample           0.25 \t\t 1.00 \t\t 0.28 \t\t 1.00\n",
            "Logistic Regression SMOTE           0.44 \t\t 0.48 \t\t 0.01 \t\t 0.65\n",
            "Decision Tree SMOTE                 0.56 \t\t 0.99 \t\t 0.38 \t\t 1.00\n"
          ]
        }
      ],
      "source": [
        "getComparitiveChart(model_list,'Decision Tree SMOTE',decision_tree_model_smote)"
      ]
    },
    {
      "cell_type": "markdown",
      "metadata": {
        "id": "QG8K3KDM20S-"
      },
      "source": [
        "\n",
        "\n",
        "**We see that Under sampling gives better results till now**\n",
        "### 4.4 Implementing Near Miss\n",
        "\n",
        "NearMiss is an under-sampling technique.    \n",
        "Instead of resampling the Minority class, using a distance, this will make the majority class equal to the minority class.When instances of two different classes are very close to each other, we remove the instances of the majority class to increase the spaces between the two classes. This helps in the classification process.   \n",
        "Steps in Near Miss Algorithm.  \n",
        "- Step 1: The method first finds the distances between all instances of the majority class and the instances of the minority class. Here, majority class is to be under-sampled.\n",
        "- Step 2: Then, n instances of the majority class that have the smallest distances to those in the minority class are selected.\n",
        "- Step 3: If there are k instances in the minority class, the nearest method will result in k*n instances of the majority class.\n",
        "\n",
        "\n",
        "For finding n closest instances in the majority class, there are several variations of applying NearMiss Algorithm :   \n",
        "\n",
        "- NearMiss – Version 1 : It selects samples of the majority class for which average distances to the k closest instances of the minority class is smallest.\n",
        "- NearMiss – Version 2 : It selects samples of the majority class for which average distances to the k farthest instances of the minority class is smallest.\n",
        "- NearMiss – Version 3 : It works in 2 steps. Firstly, for each minority class instance, their M nearest-neighbors will be stored. Then finally, the majority class instances are selected for which the average distance to the N nearest-neighbors is the largest."
      ]
    },
    {
      "cell_type": "code",
      "execution_count": null,
      "metadata": {
        "id": "6-O4CJ_n20S_",
        "outputId": "b5c8d049-4d61-45a6-d08d-a140fe45e992"
      },
      "outputs": [
        {
          "name": "stdout",
          "output_type": "stream",
          "text": [
            "Near Miss:\n",
            "1    705\n",
            "0    705\n",
            "Name: is_fraud, dtype: int64\n"
          ]
        }
      ],
      "source": [
        "# near miss\n",
        "nr = NearMiss()\n",
        "X_train_miss, y_train_miss = nr.fit_sample(df_Train, Y_train)\n",
        "print('Near Miss:')\n",
        "print(y_train_miss.value_counts())"
      ]
    },
    {
      "cell_type": "code",
      "execution_count": null,
      "metadata": {
        "id": "8D0Xyd3i20S_",
        "outputId": "6392bbc3-d6cf-494b-d1a7-c9333afd5403"
      },
      "outputs": [
        {
          "name": "stdout",
          "output_type": "stream",
          "text": [
            "1    705\n",
            "0    705\n",
            "Name: is_fraud, dtype: int64\n"
          ]
        }
      ],
      "source": [
        "print(y_train_miss.value_counts())"
      ]
    },
    {
      "cell_type": "code",
      "execution_count": null,
      "metadata": {
        "id": "XyfzHxW720S_",
        "outputId": "c67f6cc4-320c-4210-db28-0f38006942e1"
      },
      "outputs": [
        {
          "name": "stdout",
          "output_type": "stream",
          "text": [
            "Training Accuracy:  0.6187185735879323\n",
            "Testing Accuracy:  0.6264665658964946\n",
            "[[17361 10295]\n",
            " [   84    46]]\n",
            "              precision    recall  f1-score   support\n",
            "\n",
            "           0       1.00      0.63      0.77     27656\n",
            "           1       0.00      0.35      0.01       130\n",
            "\n",
            "    accuracy                           0.63     27786\n",
            "   macro avg       0.50      0.49      0.39     27786\n",
            "weighted avg       0.99      0.63      0.77     27786\n",
            "\n"
          ]
        }
      ],
      "source": [
        "# training and predictions : Logistic Regression\n",
        "\n",
        "model_LR_nm = LogisticRegression(random_state=137)\n",
        "model_LR_nm.fit(X_train_miss,y_train_miss)\n",
        "y_pred = model_LR_nm.predict(df_Test)\n",
        "print_eval(y_pred,model_LR_nm)"
      ]
    },
    {
      "cell_type": "markdown",
      "metadata": {
        "id": "zQzPYaYa20S_"
      },
      "source": [
        "### trade off between precision and recall\n",
        "\n",
        "https://www.kaggle.com/robinteuwens/precision-vs-recall-optimizing-fraud-costs"
      ]
    },
    {
      "cell_type": "code",
      "execution_count": null,
      "metadata": {
        "id": "pUh6h6Iq20TA"
      },
      "outputs": [],
      "source": []
    },
    {
      "cell_type": "code",
      "execution_count": null,
      "metadata": {
        "id": "zkLAIWlb20TA",
        "outputId": "7a19b5a0-6760-4c68-c495-32bb41933aef"
      },
      "outputs": [
        {
          "name": "stdout",
          "output_type": "stream",
          "text": [
            "Training Accuracy:  0.6950596909029213\n",
            "Testing Accuracy:  0.696681782192471\n",
            "[[19236  8420]\n",
            " [    8   122]]\n",
            "              precision    recall  f1-score   support\n",
            "\n",
            "           0       1.00      0.70      0.82     27656\n",
            "           1       0.01      0.94      0.03       130\n",
            "\n",
            "    accuracy                           0.70     27786\n",
            "   macro avg       0.51      0.82      0.42     27786\n",
            "weighted avg       0.99      0.70      0.82     27786\n",
            "\n"
          ]
        }
      ],
      "source": [
        "# training and predictions : decision tree\n",
        "decision_tree_model_nm = DecisionTreeClassifier(random_state=137)\n",
        "decision_tree_model_nm.fit(X_train_miss,y_train_miss)\n",
        "y_pred = decision_tree_model_nm.predict(df_Test)\n",
        "print_eval(y_pred,decision_tree_model_nm)"
      ]
    },
    {
      "cell_type": "code",
      "execution_count": null,
      "metadata": {
        "id": "Jw9WKcKj20TA",
        "outputId": "5a09d70d-f904-4b4b-d5f6-a21d19c684f5"
      },
      "outputs": [
        {
          "name": "stdout",
          "output_type": "stream",
          "text": [
            "\u001b[1m  Comparitive Chart of all models\n",
            " Model                             Recall class-1 Recall class-0 f1-score class-1 f1-score class-0\n",
            "Logistic Regression                 0.00 \t\t 1.00 \t\t 0.00 \t\t 1.00\n",
            "Decision Tree                       0.64 \t\t 0.99 \t\t 0.31 \t\t 0.99\n",
            "Logistic Regression Under Sample    0.13 \t\t 0.85 \t\t 0.01 \t\t 0.92\n",
            "Decision Tree Under Sample          0.98 \t\t 0.93 \t\t 0.12 \t\t 0.97\n",
            "Logistic Regression Over Sample     0.09 \t\t 0.87 \t\t 0.01 \t\t 0.93\n",
            "Decision Tree Over Sample           0.25 \t\t 1.00 \t\t 0.28 \t\t 1.00\n",
            "Logistic Regression SMOTE           0.44 \t\t 0.48 \t\t 0.01 \t\t 0.65\n",
            "Decision Tree SMOTE                 0.56 \t\t 0.99 \t\t 0.38 \t\t 1.00\n",
            "Logistic Regression Near Miss       0.35 \t\t 0.63 \t\t 0.01 \t\t 0.77\n"
          ]
        }
      ],
      "source": [
        "getComparitiveChart(model_list,'Logistic Regression Near Miss',model_LR_nm)"
      ]
    },
    {
      "cell_type": "code",
      "execution_count": null,
      "metadata": {
        "id": "Js2yEQmw20TA",
        "outputId": "c963a815-f10b-43f4-c715-8e316aac4438"
      },
      "outputs": [
        {
          "name": "stdout",
          "output_type": "stream",
          "text": [
            "\u001b[1m  Comparitive Chart of all models\n",
            " Model                             Recall class-1 Recall class-0 f1-score class-1 f1-score class-0\n",
            "Logistic Regression                 0.00 \t\t 1.00 \t\t 0.00 \t\t 1.00\n",
            "Decision Tree                       0.64 \t\t 0.99 \t\t 0.31 \t\t 0.99\n",
            "Logistic Regression Under Sample    0.13 \t\t 0.85 \t\t 0.01 \t\t 0.92\n",
            "Decision Tree Under Sample          0.98 \t\t 0.93 \t\t 0.12 \t\t 0.97\n",
            "Logistic Regression Over Sample     0.09 \t\t 0.87 \t\t 0.01 \t\t 0.93\n",
            "Decision Tree Over Sample           0.25 \t\t 1.00 \t\t 0.28 \t\t 1.00\n",
            "Logistic Regression SMOTE           0.44 \t\t 0.48 \t\t 0.01 \t\t 0.65\n",
            "Decision Tree SMOTE                 0.56 \t\t 0.99 \t\t 0.38 \t\t 1.00\n",
            "Logistic Regression Near Miss       0.35 \t\t 0.63 \t\t 0.01 \t\t 0.77\n",
            "Decision Tree Near Miss             0.94 \t\t 0.70 \t\t 0.03 \t\t 0.82\n"
          ]
        }
      ],
      "source": [
        "getComparitiveChart(model_list,'Decision Tree Near Miss',decision_tree_model_nm)"
      ]
    },
    {
      "cell_type": "markdown",
      "metadata": {
        "id": "XF60lf7I20TA"
      },
      "source": [
        "### 4.5 Comparisions of different models\n"
      ]
    },
    {
      "cell_type": "code",
      "execution_count": null,
      "metadata": {
        "id": "T1rJHV_A20TA"
      },
      "outputs": [],
      "source": []
    },
    {
      "cell_type": "code",
      "execution_count": null,
      "metadata": {
        "id": "uFT5dXKq20TB",
        "outputId": "3b513ca1-b4d5-45ef-e846-f77fc6bc84a5"
      },
      "outputs": [
        {
          "name": "stdout",
          "output_type": "stream",
          "text": [
            "\n",
            "========================== Model Test Results ========================\n",
            "\n",
            "=== dc ===\n",
            "Model Accuracy:  98.7%\n",
            "\n",
            "Recall:\n",
            " 0.6384615384615384\n",
            "\n",
            "\n",
            "Classification Report:\n",
            "               precision    recall  f1-score   support\n",
            "\n",
            "           0       1.00      0.99      0.99     27656\n",
            "           1       0.20      0.64      0.31       130\n",
            "\n",
            "    accuracy                           0.99     27786\n",
            "   macro avg       0.60      0.81      0.65     27786\n",
            "weighted avg       0.99      0.99      0.99     27786\n",
            "\n",
            "\n",
            "=== dc_us ===\n",
            "Model Accuracy:  93.30000000000001%\n",
            "\n",
            "Recall:\n",
            " 0.9769230769230769\n",
            "\n",
            "\n",
            "Classification Report:\n",
            "               precision    recall  f1-score   support\n",
            "\n",
            "           0       1.00      0.93      0.97     27656\n",
            "           1       0.06      0.98      0.12       130\n",
            "\n",
            "    accuracy                           0.93     27786\n",
            "   macro avg       0.53      0.95      0.54     27786\n",
            "weighted avg       1.00      0.93      0.96     27786\n",
            "\n",
            "\n",
            "=== dc_os ===\n",
            "Model Accuracy:  99.4%\n",
            "\n",
            "Recall:\n",
            " 0.25384615384615383\n",
            "\n",
            "\n",
            "Classification Report:\n",
            "               precision    recall  f1-score   support\n",
            "\n",
            "           0       1.00      1.00      1.00     27656\n",
            "           1       0.31      0.25      0.28       130\n",
            "\n",
            "    accuracy                           0.99     27786\n",
            "   macro avg       0.65      0.63      0.64     27786\n",
            "weighted avg       0.99      0.99      0.99     27786\n",
            "\n",
            "\n",
            "=== dc_smote ===\n",
            "Model Accuracy:  99.2%\n",
            "\n",
            "Recall:\n",
            " 0.5615384615384615\n",
            "\n",
            "\n",
            "Classification Report:\n",
            "               precision    recall  f1-score   support\n",
            "\n",
            "           0       1.00      0.99      1.00     27656\n",
            "           1       0.29      0.56      0.38       130\n",
            "\n",
            "    accuracy                           0.99     27786\n",
            "   macro avg       0.64      0.78      0.69     27786\n",
            "weighted avg       0.99      0.99      0.99     27786\n",
            "\n",
            "\n",
            "=== dc_nm ===\n",
            "Model Accuracy:  69.69999999999999%\n",
            "\n",
            "Recall:\n",
            " 0.9384615384615385\n",
            "\n",
            "\n",
            "Classification Report:\n",
            "               precision    recall  f1-score   support\n",
            "\n",
            "           0       1.00      0.70      0.82     27656\n",
            "           1       0.01      0.94      0.03       130\n",
            "\n",
            "    accuracy                           0.70     27786\n",
            "   macro avg       0.51      0.82      0.42     27786\n",
            "weighted avg       0.99      0.70      0.82     27786\n",
            "\n",
            "\n",
            "============================= ROC Curve ===============================\n",
            "\n"
          ]
        },
        {
          "data": {
            "image/png": "[encoded data removed]",
            "text/plain": [
              "<Figure size 576x432 with 1 Axes>"
            ]
          },
          "metadata": {
            "needs_background": "light"
          },
          "output_type": "display_data"
        }
      ],
      "source": [
        "# Test models\n",
        "classdict = {'normal':0, 'fraudulent':1}\n",
        "print()\n",
        "print('========================== Model Test Results ========================' \"\\n\")\n",
        "modlist = [('dc', decision_tree_model),\n",
        "           ('dc_us', decision_tree_model_undersample),\n",
        "           ('dc_os', decision_tree_model_over_sample),\n",
        "           ('dc_smote', decision_tree_model_smote),\n",
        "           ('dc_nm', decision_tree_model_nm)\n",
        "\n",
        "          ]\n",
        "models = [j for j in modlist]\n",
        "for i, v in models:\n",
        "    accuracy = metrics.accuracy_score(Y_test, v.predict(df_Test))\n",
        "    confusion_matrix = metrics.confusion_matrix(Y_test, v.predict(df_Test))\n",
        "    classification = metrics.classification_report(Y_test, v.predict(df_Test))\n",
        "    print('=== {} ==='.format(i))\n",
        "    print (\"Model Accuracy: \",  '{}%'.format(np.round(accuracy, 3) * 100))\n",
        "    print()\n",
        "    print(\"Recall:\" \"\\n\", confusion_matrix[1][1]/130)\n",
        "    print()\n",
        "    #pf.plot_confusion_matrix(confusion_matrix, classes = list(classdict.keys()),title='Confusion Matrix Plot', cmap=plt.cm.summer)\n",
        "    print()\n",
        "    print(\"Classification Report:\" \"\\n\", classification)\n",
        "    print()\n",
        "\n",
        "print('============================= ROC Curve ===============================' \"\\n\")\n",
        "pf.plot_roc_auc(arg1=models, arg2=df_Test, arg3=Y_test)\n",
        "\n"
      ]
    },
    {
      "cell_type": "markdown",
      "metadata": {
        "id": "S6SkdouT20TB"
      },
      "source": [
        "### 4.5 Implementing the models\n",
        ">4.5.1\tLogistic Regression   \n",
        "4.5.2\tSVM    \n",
        "4.5.3\tXGBoost    \n",
        "4.5.4\tRandom Forest   \n",
        "4.5.5\tArtificial Neural Network   \n",
        "4.5.6   Penalized-SVM   \n",
        "\n",
        "\n",
        "Penalize Algorithms (Cost-Sensitive Training)\n",
        "The next tactic is to use penalized learning algorithms that increase the cost of classification mistakes on the minority class.\n",
        "\n",
        "A popular algorithm for this technique is Penalized-SVM.\n",
        "\n",
        "During training, we can use the argument class_weight=’balanced’ to penalize mistakes on the minority class by an amount proportional to how under-represented it is.\n",
        "\n",
        "We also want to include the argument probability=True if we want to enable probability estimates for SVM algorithms.\n",
        "\n",
        "Let’s train a model using Penalized-SVM on the original imbalanced dataset:"
      ]
    },
    {
      "cell_type": "markdown",
      "metadata": {
        "id": "c3TyQVo120TB"
      },
      "source": [
        "### 4.6 Taking into consideration all samples that were considered fraud by any of the model"
      ]
    },
    {
      "cell_type": "code",
      "execution_count": null,
      "metadata": {
        "id": "ycHsVF-U20TB",
        "outputId": "d8714fdd-f24e-4873-aa01-31c4d1ad6c55"
      },
      "outputs": [
        {
          "name": "stdout",
          "output_type": "stream",
          "text": [
            "              precision    recall  f1-score   support\n",
            "\n",
            "           0       1.00      0.67      0.80     27656\n",
            "           1       0.01      1.00      0.03       130\n",
            "\n",
            "    accuracy                           0.68     27786\n",
            "   macro avg       0.51      0.84      0.42     27786\n",
            "weighted avg       1.00      0.68      0.80     27786\n",
            "\n",
            "\u001b[1m  Recall of combined results is : 1.0\n"
          ]
        }
      ],
      "source": [
        "# method to combine all the fraud samples\n",
        "modlist = [('dc      ', decision_tree_model),\n",
        "           ('dc_us   ', decision_tree_model_undersample),\n",
        "           ('dc_os   ', decision_tree_model_over_sample),\n",
        "           ('dc_smote', decision_tree_model_smote),\n",
        "           ('dc_nm   ', decision_tree_model_nm)]\n",
        "res_recall = {}\n",
        "res = pd.DataFrame()\n",
        "for i,v in modlist:\n",
        "    pred = v.predict(df_Test)\n",
        "    y_df = pd.DataFrame(pred)\n",
        "    res = pd.concat([res,y_df],axis = 1)\n",
        "    #recall\n",
        "    prfs = precision_recall_fscore_support(Y_test,pred , average=None)\n",
        "    res_recall[i] = round(prfs[1][1],2)\n",
        "\n",
        "# column total has value 1 if any of the models has predicted a fraud\n",
        "res.loc[:,'total'] = res.max(axis = 1)\n",
        "res = res['total']\n",
        "report = classification_report(Y_test,res)\n",
        "print(classification_report(Y_test,res))\n",
        "\n",
        "prfs = precision_recall_fscore_support(Y_test,res , average=None)\n",
        "res_recall['Combined'] = round(prfs[1][1],2)\n",
        "print('\\033[1m', \" Recall of combined results is :\" ,round(prfs[1][1],4) )"
      ]
    },
    {
      "cell_type": "code",
      "execution_count": null,
      "metadata": {
        "id": "DxSkgaiG20TB",
        "outputId": "a701a04b-2d81-4164-9475-0f1b2213a7bb"
      },
      "outputs": [
        {
          "name": "stdout",
          "output_type": "stream",
          "text": [
            "Model            Recall\n",
            "dc       \t 0.64\n",
            "dc_us    \t 0.98\n",
            "dc_os    \t 0.25\n",
            "dc_smote \t 0.56\n",
            "dc_nm    \t 0.94\n",
            "Combined \t 1.0\n"
          ]
        }
      ],
      "source": [
        "# report generation of recall of all models\n",
        "print(\"Model\" , \"           Recall\")\n",
        "for i,v in res_recall.items():\n",
        "    print( i ,\"\\t\",v)"
      ]
    },
    {
      "cell_type": "markdown",
      "metadata": {
        "id": "QATQUE9a20TC"
      },
      "source": [
        "Implementing models"
      ]
    },
    {
      "cell_type": "code",
      "execution_count": null,
      "metadata": {
        "id": "o6uptEZo20TC",
        "outputId": "a0bcb4df-9a31-457b-db42-9b21e5f0efd0"
      },
      "outputs": [
        {
          "name": "stdout",
          "output_type": "stream",
          "text": [
            "(129668, 3077) (27786, 3077) (129668,) (27786,)\n"
          ]
        }
      ],
      "source": [
        "# files ready for testing on models\n",
        "print(df_Train.shape, df_Test.shape, Y_train.shape, Y_test.shape)"
      ]
    },
    {
      "cell_type": "markdown",
      "metadata": {
        "id": "He3nPa2e20TC"
      },
      "source": [
        "### Random Forest Classifier\n",
        "\n",
        "#### sklearn default parameters:    \n",
        "\n",
        "class sklearn.ensemble.RandomForestClassifier(n_estimators=100, *, criterion='gini', max_depth=None, min_samples_split=2, min_samples_leaf=1, min_weight_fraction_leaf=0.0, max_features='auto', max_leaf_nodes=None, min_impurity_decrease=0.0, min_impurity_split=None, bootstrap=True, oob_score=False, n_jobs=None, random_state=None, verbose=0, warm_start=False, class_weight=None, ccp_alpha=0.0, max_samples=None)    \n",
        "\n",
        "\n",
        "The Random forest or Random Decision Forest is a supervised Machine learning algorithm used for classification, regression, and other tasks using decision trees.\n",
        "The Random forest classifier creates a set of decision trees from a randomly selected subset of the training set. It is basically a set of decision trees (DT) from a randomly selected subset of the training set and then It collects the votes from different decision trees to decide the final prediction.\n",
        "\n",
        "Folowing are the hyper parameters to be tuned for Random Forest :   \n",
        ">- max_depth - The max_depth of a tree in Random Forest is defined as the longest path between the root node and the leaf node.   \n",
        "- min_sample_split – a parameter that tells the decision tree in a random forest the minimum required number of observations in any given node in order to split it.    \n",
        "The default value of the minimum_sample_split is assigned to 2.  \n",
        "By increasing the value of the min_sample_split, we can reduce the number of splits that happen in the decision tree and therefore prevent the model from overfitting.    \n",
        "- max_leaf_nodes - This hyperparameter sets a condition on the splitting of the nodes in the tree and hence restricts the growth of the tree. If after splitting we have more terminal nodes than the specified number of terminal nodes, it will stop the splitting and the tree will not grow further.   \n",
        "- min_samples_leaf - This hyperparameter sets a condition on the splitting of the nodes in the tree and hence restricts the growth of the tree. If after splitting we have more terminal nodes than the specified number of terminal nodes, it will stop the splitting and the tree will not grow further.   \n",
        "- n_estimators - Random Forest algorithm is a grouping of trees. n_estimators is the number of trees.More trees should be able to produce a more generalized result, but by choosing more number of trees, the time complexity of the Random Forest model also increases.      \n",
        "- max_sample (bootstrap sample) - The max_samples hyperparameter determines what fraction of the original dataset is given to any individual tree.    \n",
        "- max_features -  It is the number of maximum features provided to each tree in a random forest.  \n",
        "default=”auto”"
      ]
    },
    {
      "cell_type": "code",
      "execution_count": null,
      "metadata": {
        "id": "jYnQCE-K20TC",
        "outputId": "bf07dc1e-78f7-48a5-f32e-2ddce56f9620"
      },
      "outputs": [
        {
          "ename": "NameError",
          "evalue": "name 'print_eval' is not defined",
          "output_type": "error",
          "traceback": [
            "\u001b[0;31m---------------------------------------------------------------------------\u001b[0m",
            "\u001b[0;31mNameError\u001b[0m                                 Traceback (most recent call last)",
            "\u001b[0;32m<ipython-input-31-325c2f85b83b>\u001b[0m in \u001b[0;36m<module>\u001b[0;34m\u001b[0m\n\u001b[1;32m     11\u001b[0m \u001b[0my_pred\u001b[0m \u001b[0;34m=\u001b[0m \u001b[0mmodel_random_forest\u001b[0m\u001b[0;34m.\u001b[0m\u001b[0mpredict\u001b[0m\u001b[0;34m(\u001b[0m\u001b[0mdf_Test\u001b[0m\u001b[0;34m)\u001b[0m\u001b[0;34m\u001b[0m\u001b[0;34m\u001b[0m\u001b[0m\n\u001b[1;32m     12\u001b[0m \u001b[0;34m\u001b[0m\u001b[0m\n\u001b[0;32m---> 13\u001b[0;31m \u001b[0mprint_eval\u001b[0m\u001b[0;34m(\u001b[0m\u001b[0my_pred\u001b[0m\u001b[0;34m,\u001b[0m\u001b[0mmodel_random_forest\u001b[0m\u001b[0;34m)\u001b[0m\u001b[0;34m\u001b[0m\u001b[0;34m\u001b[0m\u001b[0m\n\u001b[0m",
            "\u001b[0;31mNameError\u001b[0m: name 'print_eval' is not defined"
          ]
        }
      ],
      "source": [
        "# raw data max_leaf_nodes = None(unlimited)\n",
        "# creating a RF classifier\n",
        "from sklearn.metrics import confusion_matrix\n",
        "model_random_forest = RandomForestClassifier(n_estimators = 100,random_state=137)\n",
        "\n",
        "# Training the model on the training dataset\n",
        "# fit function is used to train the model using the training sets as parameters\n",
        "model_random_forest.fit(df_Train, Y_train)\n",
        "\n",
        "# performing predictions on the test dataset\n",
        "y_pred = model_random_forest.predict(df_Test)\n",
        "\n",
        "\n"
      ]
    },
    {
      "cell_type": "code",
      "execution_count": null,
      "metadata": {
        "id": "4sIpvbeF20TC",
        "outputId": "f4dd3f48-1e40-45d0-a258-e05b028ac30b"
      },
      "outputs": [
        {
          "name": "stdout",
          "output_type": "stream",
          "text": [
            "Training Accuracy:  0.9999922879970385\n",
            "Testing Accuracy:  0.9963290865903692\n",
            "[[27655     1]\n",
            " [  101    29]]\n",
            "              precision    recall  f1-score   support\n",
            "\n",
            "           0       1.00      1.00      1.00     27656\n",
            "           1       0.97      0.22      0.36       130\n",
            "\n",
            "    accuracy                           1.00     27786\n",
            "   macro avg       0.98      0.61      0.68     27786\n",
            "weighted avg       1.00      1.00      1.00     27786\n",
            "\n"
          ]
        }
      ],
      "source": [
        "print_eval(y_pred,model_random_forest)"
      ]
    },
    {
      "cell_type": "code",
      "execution_count": null,
      "metadata": {
        "id": "bxNj2CKf20TC",
        "outputId": "6317071d-6098-4f04-c83f-701f99b1362c"
      },
      "outputs": [
        {
          "name": "stdout",
          "output_type": "stream",
          "text": [
            "              precision    recall  f1-score   support\n",
            "\n",
            "           0       1.00      1.00      1.00    128963\n",
            "           1       1.00      1.00      1.00       705\n",
            "\n",
            "    accuracy                           1.00    129668\n",
            "   macro avg       1.00      1.00      1.00    129668\n",
            "weighted avg       1.00      1.00      1.00    129668\n",
            "\n"
          ]
        }
      ],
      "source": [
        "\n",
        "# on train data\n",
        "y_pred11 = model_random_forest.predict(df_Train)\n",
        "print(classification_report(Y_train,y_pred11))"
      ]
    },
    {
      "cell_type": "code",
      "execution_count": null,
      "metadata": {
        "id": "UPN9Llml20TC",
        "outputId": "82b7948c-9d54-4e19-d020-f4273c176abf"
      },
      "outputs": [
        {
          "name": "stdout",
          "output_type": "stream",
          "text": [
            "Training Accuracy:  0.9999922879970385\n",
            "Testing Accuracy:  0.9963290865903692\n",
            "[[27656     0]\n",
            " [  130     0]]\n",
            "              precision    recall  f1-score   support\n",
            "\n",
            "           0       1.00      1.00      1.00     27656\n",
            "           1       0.00      0.00      0.00       130\n",
            "\n",
            "    accuracy                           1.00     27786\n",
            "   macro avg       0.50      0.50      0.50     27786\n",
            "weighted avg       0.99      1.00      0.99     27786\n",
            "\n"
          ]
        }
      ],
      "source": [
        "# raw data max_leaf_nodes = None(unlimited)\n",
        "# creating a RF classifier\n",
        "from sklearn.metrics import confusion_matrix\n",
        "model_random_forest2 = RandomForestClassifier(n_estimators = 130,random_state=137, max_leaf_nodes=10)\n",
        "\n",
        "# Training the model on the training dataset\n",
        "# fit function is used to train the model using the training sets as parameters\n",
        "model_random_forest2.fit(df_Train, Y_train)\n",
        "\n",
        "# performing predictions on the test dataset\n",
        "y_pred2 = model_random_forest2.predict(df_Test)\n",
        "print_eval(y_pred2,model_random_forest)"
      ]
    },
    {
      "cell_type": "code",
      "execution_count": null,
      "metadata": {
        "id": "4-QTb2FD20TD"
      },
      "outputs": [],
      "source": [
        "y_pred22 = model_random_forest2.predict(df_Train)"
      ]
    },
    {
      "cell_type": "code",
      "execution_count": null,
      "metadata": {
        "id": "naYJNSSF20TD",
        "outputId": "8f512e45-cbe1-418d-b4e3-35e4eeea4b87"
      },
      "outputs": [
        {
          "name": "stdout",
          "output_type": "stream",
          "text": [
            "[[128963      0]\n",
            " [   665     40]]\n",
            "              precision    recall  f1-score   support\n",
            "\n",
            "           0       0.99      1.00      1.00    128963\n",
            "           1       1.00      0.06      0.11       705\n",
            "\n",
            "    accuracy                           0.99    129668\n",
            "   macro avg       1.00      0.53      0.55    129668\n",
            "weighted avg       0.99      0.99      0.99    129668\n",
            "\n"
          ]
        }
      ],
      "source": [
        "print(confusion_matrix(Y_train,y_pred22))\n",
        "print(classification_report(Y_train,y_pred22))"
      ]
    },
    {
      "cell_type": "code",
      "execution_count": null,
      "metadata": {
        "id": "9mCVswkW20TD"
      },
      "outputs": [],
      "source": []
    },
    {
      "cell_type": "code",
      "execution_count": null,
      "metadata": {
        "id": "9y12fZh220TD"
      },
      "outputs": [],
      "source": []
    },
    {
      "cell_type": "code",
      "execution_count": null,
      "metadata": {
        "id": "idIufrqZ20TD"
      },
      "outputs": [],
      "source": []
    },
    {
      "cell_type": "code",
      "execution_count": null,
      "metadata": {
        "id": "ynS5tA8I20TD"
      },
      "outputs": [],
      "source": []
    },
    {
      "cell_type": "code",
      "execution_count": null,
      "metadata": {
        "id": "AQkS47R420TD",
        "outputId": "368c55b2-086a-42a5-a273-b2164ec708b7"
      },
      "outputs": [
        {
          "data": {
            "text/plain": [
              "0.611520382278988"
            ]
          },
          "execution_count": 159,
          "metadata": {},
          "output_type": "execute_result"
        }
      ],
      "source": [
        "from sklearn.metrics import roc_auc_score\n",
        "roc_auc_score(Y_test, y_pred)"
      ]
    },
    {
      "cell_type": "code",
      "execution_count": null,
      "metadata": {
        "id": "GB8yBA9d20TD",
        "outputId": "4a3f58e3-bb43-44a7-ca8d-bda698d1ff15"
      },
      "outputs": [
        {
          "name": "stdout",
          "output_type": "stream",
          "text": [
            "Training Accuracy:  0.9999922879970385\n",
            "Testing Accuracy:  0.9963290865903692\n",
            "[[27655     1]\n",
            " [  101    29]]\n",
            "              precision    recall  f1-score   support\n",
            "\n",
            "           0       1.00      1.00      1.00     27656\n",
            "           1       0.97      0.22      0.36       130\n",
            "\n",
            "    accuracy                           1.00     27786\n",
            "   macro avg       0.98      0.61      0.68     27786\n",
            "weighted avg       1.00      1.00      1.00     27786\n",
            "\n"
          ]
        }
      ],
      "source": [
        "# raw data\n",
        "# creating a RF classifier\n",
        "from sklearn.metrics import confusion_matrix\n",
        "model_random_forest = RandomForestClassifier(random_state=137)\n",
        "\n",
        "# Training the model on the training dataset\n",
        "# fit function is used to train the model using the training sets as parameters\n",
        "model_random_forest.fit(df_Train, Y_train)\n",
        "\n",
        "# performing predictions on the test dataset\n",
        "y_pred = model_random_forest.predict(df_Test)\n",
        "\n",
        "print_eval(y_pred,model_random_forest)"
      ]
    },
    {
      "cell_type": "code",
      "execution_count": null,
      "metadata": {
        "id": "6C5UJTFW20TE",
        "outputId": "ad9550dc-f89e-4b70-ac3c-4ffd02620ab9"
      },
      "outputs": [
        {
          "name": "stdout",
          "output_type": "stream",
          "text": [
            "Training Accuracy:  0.9999922879970385\n",
            "Testing Accuracy:  0.9963290865903692\n",
            "[[27641    15]\n",
            " [  127     3]]\n",
            "              precision    recall  f1-score   support\n",
            "\n",
            "           0       1.00      1.00      1.00     27656\n",
            "           1       0.17      0.02      0.04       130\n",
            "\n",
            "    accuracy                           0.99     27786\n",
            "   macro avg       0.58      0.51      0.52     27786\n",
            "weighted avg       0.99      0.99      0.99     27786\n",
            "\n"
          ]
        }
      ],
      "source": [
        "from sklearn.metrics import confusion_matrix\n",
        "# smote\n",
        "\n",
        "# training and predictions : random forest\n",
        "random_forest_model_smote = RandomForestClassifier(random_state=137)\n",
        "random_forest_model_smote.fit(X_sm,y_sm)\n",
        "y_pred = random_forest_model_smote.predict(df_Test)\n",
        "print_eval(y_pred,model_random_forest)"
      ]
    },
    {
      "cell_type": "code",
      "execution_count": null,
      "metadata": {
        "id": "DK405Y_L20TE",
        "outputId": "4a527254-07a5-409a-98a0-51fcbc08f4f4"
      },
      "outputs": [
        {
          "data": {
            "text/plain": [
              "0.5112672726463585"
            ]
          },
          "execution_count": 74,
          "metadata": {},
          "output_type": "execute_result"
        }
      ],
      "source": [
        "from sklearn.metrics import roc_auc_score\n",
        "roc_auc_score(Y_test, y_pred)"
      ]
    },
    {
      "cell_type": "markdown",
      "metadata": {
        "id": "Dm1xNLp120TE"
      },
      "source": [
        "WE see that performance deteriorates on limiting the max_leaf_nodes"
      ]
    },
    {
      "cell_type": "markdown",
      "metadata": {
        "id": "vvgWHmjZ20TE"
      },
      "source": [
        "### Working with SMOTE data"
      ]
    },
    {
      "cell_type": "code",
      "execution_count": null,
      "metadata": {
        "id": "SEYmRLd020TE",
        "outputId": "645f3613-ca21-4b4c-a245-96a3e12ab26a"
      },
      "outputs": [
        {
          "name": "stdout",
          "output_type": "stream",
          "text": [
            "Training Accuracy:  0.9945630379122066\n",
            "Testing Accuracy:  0.9953213848700785\n",
            "[[26861   795]\n",
            " [   44    86]]\n",
            "              precision    recall  f1-score   support\n",
            "\n",
            "           0       1.00      0.97      0.98     27656\n",
            "           1       0.10      0.66      0.17       130\n",
            "\n",
            "    accuracy                           0.97     27786\n",
            "   macro avg       0.55      0.82      0.58     27786\n",
            "weighted avg       0.99      0.97      0.98     27786\n",
            "\n"
          ]
        }
      ],
      "source": [
        "from sklearn.metrics import confusion_matrix\n",
        "# smote\n",
        "\n",
        "# training and predictions : random forest\n",
        "random_forest_model_smote = RandomForestClassifier(n_estimators = 50 ,random_state=137, max_leaf_nodes=16)\n",
        "random_forest_model_smote.fit(X_sm,y_sm)\n",
        "y_pred = random_forest_model_smote.predict(df_Test)\n",
        "print_eval(y_pred,model_random_forest)"
      ]
    },
    {
      "cell_type": "code",
      "execution_count": null,
      "metadata": {
        "id": "O9UQUxg420TE",
        "outputId": "c3330ffe-7056-47ad-b59f-1916b870a2e6"
      },
      "outputs": [
        {
          "data": {
            "text/plain": [
              "0.8163962194877727"
            ]
          },
          "execution_count": 163,
          "metadata": {},
          "output_type": "execute_result"
        }
      ],
      "source": [
        "from sklearn.metrics import roc_auc_score\n",
        "roc_auc_score(Y_test, y_pred)"
      ]
    },
    {
      "cell_type": "code",
      "execution_count": null,
      "metadata": {
        "id": "Wwz-e-ws20TE",
        "outputId": "ede2b830-f475-43ce-cce6-94816f35510e"
      },
      "outputs": [
        {
          "name": "stdout",
          "output_type": "stream",
          "text": [
            "Training Accuracy:  0.9945630379122066\n",
            "Testing Accuracy:  0.9953213848700785\n",
            "[[26955   701]\n",
            " [   42    88]]\n",
            "              precision    recall  f1-score   support\n",
            "\n",
            "           0       1.00      0.97      0.99     27656\n",
            "           1       0.11      0.68      0.19       130\n",
            "\n",
            "    accuracy                           0.97     27786\n",
            "   macro avg       0.55      0.83      0.59     27786\n",
            "weighted avg       0.99      0.97      0.98     27786\n",
            "\n"
          ]
        }
      ],
      "source": [
        "from sklearn.metrics import confusion_matrix\n",
        "# smote\n",
        "# training and predictions : random forest\n",
        "random_forest_model_smote = RandomForestClassifier(n_estimators = 75 ,random_state=137, max_leaf_nodes=16)\n",
        "random_forest_model_smote.fit(X_sm,y_sm)\n",
        "y_pred = random_forest_model_smote.predict(df_Test)\n",
        "print_eval(y_pred,model_random_forest)"
      ]
    },
    {
      "cell_type": "code",
      "execution_count": null,
      "metadata": {
        "id": "qCtz55g220TF",
        "outputId": "b4cfe273-a6e2-4542-bcb8-dcb8c7cf574e"
      },
      "outputs": [
        {
          "data": {
            "text/plain": [
              "0.8257879775705925"
            ]
          },
          "execution_count": 165,
          "metadata": {},
          "output_type": "execute_result"
        }
      ],
      "source": [
        "from sklearn.metrics import roc_auc_score\n",
        "roc_auc_score(Y_test, y_pred)"
      ]
    },
    {
      "cell_type": "code",
      "execution_count": null,
      "metadata": {
        "id": "bquaxpnS20TF",
        "outputId": "2e002d56-d360-4cf2-e331-a4ce00a488db"
      },
      "outputs": [
        {
          "name": "stdout",
          "output_type": "stream",
          "text": [
            "Training Accuracy:  0.9945630379122066\n",
            "Testing Accuracy:  0.9953213848700785\n",
            "[[27641    15]\n",
            " [  126     4]]\n",
            "              precision    recall  f1-score   support\n",
            "\n",
            "           0       1.00      1.00      1.00     27656\n",
            "           1       0.21      0.03      0.05       130\n",
            "\n",
            "    accuracy                           0.99     27786\n",
            "   macro avg       0.60      0.52      0.53     27786\n",
            "weighted avg       0.99      0.99      0.99     27786\n",
            "\n"
          ]
        }
      ],
      "source": [
        "# smote   max_leaf_nodes = None(unlimited)\n",
        "\n",
        "# training and predictions : random forest\n",
        "random_forest_model_smote = RandomForestClassifier(n_estimators = 100,random_state=137)\n",
        "random_forest_model_smote.fit(X_sm,y_sm)\n",
        "y_pred = random_forest_model_smote.predict(df_Test)\n",
        "\n",
        "print_eval(y_pred,model_random_forest)"
      ]
    },
    {
      "cell_type": "code",
      "execution_count": null,
      "metadata": {
        "id": "kjD-tMgZ20TF",
        "outputId": "56b57c78-1fff-4a32-8a5e-bdee900244ef"
      },
      "outputs": [
        {
          "data": {
            "text/plain": [
              "0.5151134264925123"
            ]
          },
          "execution_count": 167,
          "metadata": {},
          "output_type": "execute_result"
        }
      ],
      "source": [
        "from sklearn.metrics import roc_auc_score\n",
        "roc_auc_score(Y_test, y_pred)"
      ]
    },
    {
      "cell_type": "code",
      "execution_count": null,
      "metadata": {
        "id": "BqFE_ftM20TF",
        "outputId": "c0323b4a-90f4-4572-fe07-eb4813c5d6b1"
      },
      "outputs": [
        {
          "name": "stdout",
          "output_type": "stream",
          "text": [
            "Training Accuracy:  0.9945630379122066\n",
            "Testing Accuracy:  0.9953213848700785\n",
            "[[26953   703]\n",
            " [   41    89]]\n",
            "              precision    recall  f1-score   support\n",
            "\n",
            "           0       1.00      0.97      0.99     27656\n",
            "           1       0.11      0.68      0.19       130\n",
            "\n",
            "    accuracy                           0.97     27786\n",
            "   macro avg       0.56      0.83      0.59     27786\n",
            "weighted avg       0.99      0.97      0.98     27786\n",
            "\n"
          ]
        }
      ],
      "source": [
        "from sklearn.metrics import confusion_matrix\n",
        "# smote  max_leaf_nodes = 16\n",
        "\n",
        "# training and predictions : random forest\n",
        "random_forest_model_smote = RandomForestClassifier(n_estimators = 100,random_state=137, max_leaf_nodes=16)\n",
        "random_forest_model_smote.fit(X_sm,y_sm)\n",
        "y_pred = random_forest_model_smote.predict(df_Test)\n",
        "print_eval(y_pred,model_random_forest)"
      ]
    },
    {
      "cell_type": "code",
      "execution_count": null,
      "metadata": {
        "id": "GfjDmVWN20TF",
        "outputId": "3d6dd575-1733-4e28-80f4-91a19ac03d98"
      },
      "outputs": [
        {
          "data": {
            "text/plain": [
              "0.8295979728977994"
            ]
          },
          "execution_count": 169,
          "metadata": {},
          "output_type": "execute_result"
        }
      ],
      "source": [
        "from sklearn.metrics import roc_auc_score\n",
        "roc_auc_score(Y_test, y_pred)"
      ]
    },
    {
      "cell_type": "code",
      "execution_count": null,
      "metadata": {
        "id": "ZaN3Wcot20TF",
        "outputId": "14f42995-8850-4222-9ae3-5d4f75f56307"
      },
      "outputs": [
        {
          "name": "stdout",
          "output_type": "stream",
          "text": [
            "Training Accuracy:  0.9945630379122066\n",
            "Testing Accuracy:  0.9953213848700785\n",
            "[[27182   474]\n",
            " [   75    55]]\n",
            "              precision    recall  f1-score   support\n",
            "\n",
            "           0       1.00      0.98      0.99     27656\n",
            "           1       0.10      0.42      0.17       130\n",
            "\n",
            "    accuracy                           0.98     27786\n",
            "   macro avg       0.55      0.70      0.58     27786\n",
            "weighted avg       0.99      0.98      0.99     27786\n",
            "\n"
          ]
        }
      ],
      "source": [
        "from sklearn.metrics import confusion_matrix\n",
        "# smote\n",
        "\n",
        "# training and predictions : random forest\n",
        "random_forest_model_smote = RandomForestClassifier(n_estimators = 100,random_state=137, max_leaf_nodes=32)\n",
        "random_forest_model_smote.fit(X_sm,y_sm)\n",
        "y_pred = random_forest_model_smote.predict(df_Test)\n",
        "print_eval(y_pred,model_random_forest)"
      ]
    },
    {
      "cell_type": "code",
      "execution_count": null,
      "metadata": {
        "id": "eY2lJNX620TG",
        "outputId": "937d290a-e097-4928-ab19-1d824d8bba11"
      },
      "outputs": [
        {
          "data": {
            "text/plain": [
              "0.7029688925480074"
            ]
          },
          "execution_count": 171,
          "metadata": {},
          "output_type": "execute_result"
        }
      ],
      "source": [
        "from sklearn.metrics import roc_auc_score\n",
        "roc_auc_score(Y_test, y_pred)"
      ]
    },
    {
      "cell_type": "markdown",
      "metadata": {
        "id": "2xfStdXu20TG"
      },
      "source": [
        "#### Increasing the max_leaf_nodes does not give any improvement, so we proceed with value 16"
      ]
    },
    {
      "cell_type": "code",
      "execution_count": null,
      "metadata": {
        "id": "tW54qjA720TG",
        "outputId": "570a5240-f2cf-4af3-fd1c-cc106172467d"
      },
      "outputs": [
        {
          "name": "stdout",
          "output_type": "stream",
          "text": [
            "Training Accuracy:  0.9945630379122066\n",
            "Testing Accuracy:  0.9953213848700785\n",
            "[[26948   708]\n",
            " [   38    92]]\n",
            "              precision    recall  f1-score   support\n",
            "\n",
            "           0       1.00      0.97      0.99     27656\n",
            "           1       0.12      0.71      0.20       130\n",
            "\n",
            "    accuracy                           0.97     27786\n",
            "   macro avg       0.56      0.84      0.59     27786\n",
            "weighted avg       0.99      0.97      0.98     27786\n",
            "\n"
          ]
        }
      ],
      "source": [
        "from sklearn.metrics import confusion_matrix\n",
        "# smote\n",
        "\n",
        "# training and predictions : random forest\n",
        "random_forest_model_smote = RandomForestClassifier(n_estimators = 125,random_state=137, max_leaf_nodes=16)\n",
        "random_forest_model_smote.fit(X_sm,y_sm)\n",
        "y_pred = random_forest_model_smote.predict(df_Test)\n",
        "\n",
        "print_eval(y_pred,model_random_forest)"
      ]
    },
    {
      "cell_type": "code",
      "execution_count": null,
      "metadata": {
        "id": "I0j2HI3q20TG",
        "outputId": "254a4322-5e18-4af0-c906-c6675674213e"
      },
      "outputs": [
        {
          "data": {
            "text/plain": [
              "0.8410460381388932"
            ]
          },
          "execution_count": 173,
          "metadata": {},
          "output_type": "execute_result"
        }
      ],
      "source": [
        "from sklearn.metrics import roc_auc_score\n",
        "roc_auc_score(Y_test, y_pred)"
      ]
    },
    {
      "cell_type": "code",
      "execution_count": null,
      "metadata": {
        "id": "PiatljVG20TG",
        "outputId": "0c34e1c0-4423-4fc2-9f5e-71ee3f6d1787"
      },
      "outputs": [
        {
          "name": "stdout",
          "output_type": "stream",
          "text": [
            "Training Accuracy:  0.9945630379122066\n",
            "Testing Accuracy:  0.9953213848700785\n",
            "[[26956   700]\n",
            " [   38    92]]\n",
            "              precision    recall  f1-score   support\n",
            "\n",
            "           0       1.00      0.97      0.99     27656\n",
            "           1       0.12      0.71      0.20       130\n",
            "\n",
            "    accuracy                           0.97     27786\n",
            "   macro avg       0.56      0.84      0.59     27786\n",
            "weighted avg       0.99      0.97      0.98     27786\n",
            "\n"
          ]
        }
      ],
      "source": [
        "\n",
        "from sklearn.metrics import confusion_matrix\n",
        "# smote\n",
        "\n",
        "# training and predictions : random forest\n",
        "random_forest_model_smote = RandomForestClassifier(n_estimators = 130,random_state=137, max_leaf_nodes=16)\n",
        "random_forest_model_smote.fit(X_sm,y_sm)\n",
        "y_pred = random_forest_model_smote.predict(df_Test)\n",
        "\n",
        "print_eval(y_pred,model_random_forest)"
      ]
    },
    {
      "cell_type": "code",
      "execution_count": null,
      "metadata": {
        "id": "-OtjrR1w20TG",
        "outputId": "d54078c4-0fff-4924-b5b4-6519316f8bd0"
      },
      "outputs": [
        {
          "data": {
            "text/plain": [
              "0.8411906722146815"
            ]
          },
          "execution_count": 175,
          "metadata": {},
          "output_type": "execute_result"
        }
      ],
      "source": [
        "from sklearn.metrics import roc_auc_score\n",
        "roc_auc_score(Y_test, y_pred)"
      ]
    },
    {
      "cell_type": "code",
      "execution_count": null,
      "metadata": {
        "id": "5gntGnnG20TG",
        "outputId": "bc2556a4-d83e-40ae-8c20-325954afc75f"
      },
      "outputs": [
        {
          "name": "stdout",
          "output_type": "stream",
          "text": [
            "Training Accuracy:  0.9945630379122066\n",
            "Testing Accuracy:  0.9953213848700785\n",
            "[[26981   675]\n",
            " [   41    89]]\n",
            "              precision    recall  f1-score   support\n",
            "\n",
            "           0       1.00      0.98      0.99     27656\n",
            "           1       0.12      0.68      0.20       130\n",
            "\n",
            "    accuracy                           0.97     27786\n",
            "   macro avg       0.56      0.83      0.59     27786\n",
            "weighted avg       0.99      0.97      0.98     27786\n",
            "\n"
          ]
        }
      ],
      "source": [
        "\n",
        "from sklearn.metrics import confusion_matrix\n",
        "# smote\n",
        "\n",
        "# training and predictions : random forest\n",
        "random_forest_model_smote = RandomForestClassifier(n_estimators = 140,random_state=137, max_leaf_nodes=16)\n",
        "random_forest_model_smote.fit(X_sm,y_sm)\n",
        "y_pred = random_forest_model_smote.predict(df_Test)\n",
        "\n",
        "print_eval(y_pred,model_random_forest)"
      ]
    },
    {
      "cell_type": "code",
      "execution_count": null,
      "metadata": {
        "id": "Cx0Lqe2v20TH",
        "outputId": "796f8b0f-2206-44ab-a651-0f4f917a357b"
      },
      "outputs": [
        {
          "data": {
            "text/plain": [
              "0.8301041921630583"
            ]
          },
          "execution_count": 177,
          "metadata": {},
          "output_type": "execute_result"
        }
      ],
      "source": [
        "from sklearn.metrics import roc_auc_score\n",
        "roc_auc_score(Y_test, y_pred)"
      ]
    },
    {
      "cell_type": "code",
      "execution_count": null,
      "metadata": {
        "id": "Af_j0jUp20TH",
        "outputId": "2f4f3a8c-5c1f-4b5c-846a-6aa616729cbf"
      },
      "outputs": [
        {
          "name": "stdout",
          "output_type": "stream",
          "text": [
            "Training Accuracy:  0.9945630379122066\n",
            "Testing Accuracy:  0.9953213848700785\n",
            "[[26953   703]\n",
            " [   39    91]]\n",
            "              precision    recall  f1-score   support\n",
            "\n",
            "           0       1.00      0.97      0.99     27656\n",
            "           1       0.11      0.70      0.20       130\n",
            "\n",
            "    accuracy                           0.97     27786\n",
            "   macro avg       0.56      0.84      0.59     27786\n",
            "weighted avg       0.99      0.97      0.98     27786\n",
            "\n"
          ]
        }
      ],
      "source": [
        "from sklearn.metrics import confusion_matrix\n",
        "# smote\n",
        "\n",
        "# training and predictions : random forest\n",
        "random_forest_model_smote = RandomForestClassifier(n_estimators = 131,random_state=137, max_leaf_nodes=16)\n",
        "random_forest_model_smote.fit(X_sm,y_sm)\n",
        "y_pred = random_forest_model_smote.predict(df_Test)\n",
        "\n",
        "print_eval(y_pred,model_random_forest)"
      ]
    },
    {
      "cell_type": "code",
      "execution_count": null,
      "metadata": {
        "id": "ujZF-kfC20TH",
        "outputId": "b4424102-e513-4c8d-8a8e-a721b75b4c87"
      },
      "outputs": [
        {
          "data": {
            "text/plain": [
              "0.8372902805901071"
            ]
          },
          "execution_count": 179,
          "metadata": {},
          "output_type": "execute_result"
        }
      ],
      "source": [
        "from sklearn.metrics import roc_auc_score\n",
        "roc_auc_score(Y_test, y_pred)"
      ]
    },
    {
      "cell_type": "markdown",
      "metadata": {
        "id": "vYVcdWFK20TH"
      },
      "source": [
        "**Continuing with n_estimators = 100,random_state=130, max_leaf_nodes=16**"
      ]
    },
    {
      "cell_type": "code",
      "execution_count": null,
      "metadata": {
        "id": "u4WlfAL020TH",
        "outputId": "46c1bf7d-12a7-49ef-f38e-cb45f1601ca9"
      },
      "outputs": [
        {
          "name": "stdout",
          "output_type": "stream",
          "text": [
            "Training Accuracy:  0.9945630379122066\n",
            "Testing Accuracy:  0.9953213848700785\n",
            "[[26767   889]\n",
            " [   70    60]]\n",
            "              precision    recall  f1-score   support\n",
            "\n",
            "           0       1.00      0.97      0.98     27656\n",
            "           1       0.06      0.46      0.11       130\n",
            "\n",
            "    accuracy                           0.97     27786\n",
            "   macro avg       0.53      0.71      0.55     27786\n",
            "weighted avg       0.99      0.97      0.98     27786\n",
            "\n"
          ]
        }
      ],
      "source": [
        "from sklearn.metrics import confusion_matrix\n",
        "# smote  max_leaf_nodes = 16\n",
        "\n",
        "# training and predictions : random forest\n",
        "random_forest_model_smote = RandomForestClassifier(n_estimators = 130,\n",
        "                                                   random_state=137,\n",
        "                                                   max_leaf_nodes=16,\n",
        "                                                  max_features = 6)\n",
        "random_forest_model_smote.fit(X_sm,y_sm)\n",
        "y_pred = random_forest_model_smote.predict(df_Test)\n",
        "print_eval(y_pred,model_random_forest)"
      ]
    },
    {
      "cell_type": "code",
      "execution_count": null,
      "metadata": {
        "id": "2Ez15WFU20TH",
        "outputId": "d37ddef0-db1b-4a6f-d378-02b0dd66bd78"
      },
      "outputs": [
        {
          "data": {
            "text/plain": [
              "0.714696769097261"
            ]
          },
          "execution_count": 181,
          "metadata": {},
          "output_type": "execute_result"
        }
      ],
      "source": [
        "from sklearn.metrics import roc_auc_score\n",
        "roc_auc_score(Y_test, y_pred)"
      ]
    },
    {
      "cell_type": "code",
      "execution_count": null,
      "metadata": {
        "id": "H0t8nTpU20TH",
        "outputId": "c0440287-ca67-4561-902a-146c0bbb3724"
      },
      "outputs": [
        {
          "name": "stdout",
          "output_type": "stream",
          "text": [
            "Training Accuracy:  0.9945630379122066\n",
            "Testing Accuracy:  0.9953213848700785\n",
            "[[26500  1156]\n",
            " [   75    55]]\n",
            "              precision    recall  f1-score   support\n",
            "\n",
            "           0       1.00      0.96      0.98     27656\n",
            "           1       0.05      0.42      0.08       130\n",
            "\n",
            "    accuracy                           0.96     27786\n",
            "   macro avg       0.52      0.69      0.53     27786\n",
            "weighted avg       0.99      0.96      0.97     27786\n",
            "\n"
          ]
        }
      ],
      "source": [
        "from sklearn.metrics import confusion_matrix\n",
        "# smote  max_features = 20\n",
        "\n",
        "# training and predictions : random forest\n",
        "random_forest_model_smote = RandomForestClassifier(n_estimators = 130,\n",
        "                                                   random_state=137,\n",
        "                                                   max_leaf_nodes=16,\n",
        "                                                  max_features = 20)\n",
        "random_forest_model_smote.fit(X_sm,y_sm)\n",
        "y_pred = random_forest_model_smote.predict(df_Test)\n",
        "print_eval(y_pred,model_random_forest)"
      ]
    },
    {
      "cell_type": "code",
      "execution_count": null,
      "metadata": {
        "id": "FKOs4DDu20TI",
        "outputId": "a469b22c-13d5-4fb5-96cc-ca101ac97d75"
      },
      "outputs": [
        {
          "data": {
            "text/plain": [
              "0.6906388375870587"
            ]
          },
          "execution_count": 183,
          "metadata": {},
          "output_type": "execute_result"
        }
      ],
      "source": [
        "from sklearn.metrics import roc_auc_score\n",
        "roc_auc_score(Y_test, y_pred)"
      ]
    },
    {
      "cell_type": "code",
      "execution_count": null,
      "metadata": {
        "id": "72sPScKl20TI",
        "outputId": "cebeb0a7-09b5-47a2-88d8-1f4cc8cb6e64"
      },
      "outputs": [
        {
          "name": "stdout",
          "output_type": "stream",
          "text": [
            "Training Accuracy:  0.9945630379122066\n",
            "Testing Accuracy:  0.9953213848700785\n",
            "[[23481  4175]\n",
            " [  104    26]]\n",
            "              precision    recall  f1-score   support\n",
            "\n",
            "           0       1.00      0.85      0.92     27656\n",
            "           1       0.01      0.20      0.01       130\n",
            "\n",
            "    accuracy                           0.85     27786\n",
            "   macro avg       0.50      0.52      0.46     27786\n",
            "weighted avg       0.99      0.85      0.91     27786\n",
            "\n"
          ]
        }
      ],
      "source": [
        "from sklearn.metrics import confusion_matrix\n",
        "# smote  max_features = 20\n",
        "\n",
        "# training and predictions : random forest\n",
        "random_forest_model_smote = RandomForestClassifier(n_estimators = 130,\n",
        "                                                   random_state=137,\n",
        "                                                   max_leaf_nodes=16,\n",
        "                                                  max_features = 3)\n",
        "random_forest_model_smote.fit(X_sm,y_sm)\n",
        "y_pred = random_forest_model_smote.predict(df_Test)\n",
        "print_eval(y_pred,model_random_forest)"
      ]
    },
    {
      "cell_type": "code",
      "execution_count": null,
      "metadata": {
        "id": "WkAx4reU20TI",
        "outputId": "4f8cbcb9-5982-412c-a7b8-c6e0cf447d1e"
      },
      "outputs": [
        {
          "data": {
            "text/plain": [
              "0.524519091698004"
            ]
          },
          "execution_count": 185,
          "metadata": {},
          "output_type": "execute_result"
        }
      ],
      "source": [
        "from sklearn.metrics import roc_auc_score\n",
        "roc_auc_score(Y_test, y_pred)"
      ]
    },
    {
      "cell_type": "code",
      "execution_count": null,
      "metadata": {
        "id": "1lyi1tI520TI",
        "outputId": "bdb9784a-076d-48a9-d0b6-51be78f9770b"
      },
      "outputs": [
        {
          "name": "stdout",
          "output_type": "stream",
          "text": [
            "Training Accuracy:  0.9945630379122066\n",
            "Testing Accuracy:  0.9953213848700785\n",
            "[[26956   700]\n",
            " [   38    92]]\n",
            "              precision    recall  f1-score   support\n",
            "\n",
            "           0       1.00      0.97      0.99     27656\n",
            "           1       0.12      0.71      0.20       130\n",
            "\n",
            "    accuracy                           0.97     27786\n",
            "   macro avg       0.56      0.84      0.59     27786\n",
            "weighted avg       0.99      0.97      0.98     27786\n",
            "\n"
          ]
        }
      ],
      "source": [
        "from sklearn.metrics import confusion_matrix\n",
        "# smote best model\n",
        "\n",
        "# training and predictions : random forest\n",
        "random_forest_model_smote = RandomForestClassifier(n_estimators = 130,\n",
        "                                                   random_state=137,\n",
        "                                                   max_leaf_nodes=16)\n",
        "random_forest_model_smote.fit(X_sm,y_sm)\n",
        "y_pred = random_forest_model_smote.predict(df_Test)\n",
        "print_eval(y_pred,model_random_forest)"
      ]
    },
    {
      "cell_type": "code",
      "execution_count": null,
      "metadata": {
        "id": "EicdXPOe20TI",
        "outputId": "1cba9239-6668-4b41-d7c6-5efb01f22c74"
      },
      "outputs": [
        {
          "data": {
            "text/plain": [
              "0.8411906722146815"
            ]
          },
          "execution_count": 187,
          "metadata": {},
          "output_type": "execute_result"
        }
      ],
      "source": [
        "from sklearn.metrics import roc_auc_score\n",
        "roc_auc_score(Y_test, y_pred)"
      ]
    },
    {
      "cell_type": "code",
      "execution_count": null,
      "metadata": {
        "id": "v3-ufZLi20TI",
        "outputId": "63998c14-1291-40e0-971d-f857d61064e8"
      },
      "outputs": [
        {
          "name": "stdout",
          "output_type": "stream",
          "text": [
            "Training Accuracy:  0.9945630379122066\n",
            "Testing Accuracy:  0.9953213848700785\n",
            "[[26824   832]\n",
            " [   33    97]]\n",
            "              precision    recall  f1-score   support\n",
            "\n",
            "           0       1.00      0.97      0.98     27656\n",
            "           1       0.10      0.75      0.18       130\n",
            "\n",
            "    accuracy                           0.97     27786\n",
            "   macro avg       0.55      0.86      0.58     27786\n",
            "weighted avg       0.99      0.97      0.98     27786\n",
            "\n"
          ]
        }
      ],
      "source": [
        "from sklearn.metrics import confusion_matrix\n",
        "# smote best model\n",
        "\n",
        "# training and predictions : random forest\n",
        "random_forest_model_smote = RandomForestClassifier(n_estimators = 130,\n",
        "                                                   random_state=137,\n",
        "                                                   max_leaf_nodes=10)\n",
        "random_forest_model_smote.fit(X_sm,y_sm)\n",
        "y_pred = random_forest_model_smote.predict(df_Test)\n",
        "print_eval(y_pred,model_random_forest)"
      ]
    },
    {
      "cell_type": "code",
      "execution_count": null,
      "metadata": {
        "id": "ro0ZKHuh20TI",
        "outputId": "6843aa27-6a84-4b68-86e2-a1f9f759b80b"
      },
      "outputs": [
        {
          "data": {
            "text/plain": [
              "0.8580349791949444"
            ]
          },
          "execution_count": 189,
          "metadata": {},
          "output_type": "execute_result"
        }
      ],
      "source": [
        "from sklearn.metrics import roc_auc_score\n",
        "roc_auc_score(Y_test, y_pred)"
      ]
    },
    {
      "cell_type": "code",
      "execution_count": null,
      "metadata": {
        "id": "nQXkt3qA20TJ",
        "outputId": "c2c7728c-a394-4827-cd61-97597605f122"
      },
      "outputs": [
        {
          "name": "stdout",
          "output_type": "stream",
          "text": [
            "Training Accuracy:  0.9945630379122066\n",
            "Testing Accuracy:  0.9953213848700785\n",
            "[[26796   860]\n",
            " [   37    93]]\n",
            "              precision    recall  f1-score   support\n",
            "\n",
            "           0       1.00      0.97      0.98     27656\n",
            "           1       0.10      0.72      0.17       130\n",
            "\n",
            "    accuracy                           0.97     27786\n",
            "   macro avg       0.55      0.84      0.58     27786\n",
            "weighted avg       0.99      0.97      0.98     27786\n",
            "\n"
          ]
        }
      ],
      "source": [
        "from sklearn.metrics import confusion_matrix\n",
        "# smote best model\n",
        "\n",
        "# training and predictions : random forest\n",
        "random_forest_model_smote = RandomForestClassifier(n_estimators = 130,\n",
        "                                                   random_state=137,\n",
        "                                                   max_leaf_nodes=9)\n",
        "random_forest_model_smote.fit(X_sm,y_sm)\n",
        "y_pred = random_forest_model_smote.predict(df_Test)\n",
        "print_eval(y_pred,model_random_forest)"
      ]
    },
    {
      "cell_type": "code",
      "execution_count": null,
      "metadata": {
        "id": "G99K2Vhd20TJ",
        "outputId": "f28cc999-8a26-4f42-c098-70eb7196fddb"
      },
      "outputs": [
        {
          "data": {
            "text/plain": [
              "0.8421441445450703"
            ]
          },
          "execution_count": 191,
          "metadata": {},
          "output_type": "execute_result"
        }
      ],
      "source": [
        "from sklearn.metrics import roc_auc_score\n",
        "roc_auc_score(Y_test, y_pred)"
      ]
    },
    {
      "cell_type": "markdown",
      "metadata": {
        "id": "aNLbnuX320TJ"
      },
      "source": [
        "### best hyper parameters for Random Forest\n",
        "(n_estimators = 130,\n",
        " random_state=137,\n",
        " max_leaf_nodes=10)"
      ]
    },
    {
      "cell_type": "code",
      "execution_count": null,
      "metadata": {
        "id": "3E0FJNgf20TJ"
      },
      "outputs": [],
      "source": []
    },
    {
      "cell_type": "code",
      "execution_count": null,
      "metadata": {
        "id": "1w5eXZnq20TJ"
      },
      "outputs": [],
      "source": []
    },
    {
      "cell_type": "markdown",
      "metadata": {
        "id": "ByNmS96x20TJ"
      },
      "source": [
        "   \n",
        "### 5.  Considering the Fraud cases as anamoly and use anamoly detection methods such as:   \n",
        "> 5.1 Simple Statistical Methods : Metrics such as distribution, including mean, median, mode, and quantiles could be used to identify outliers since the definition of an anomalous data point is one that deviates by a certain standard deviation from the mean.\n",
        "       5.2 Density-Based Anomaly Detection : These include the k-nearest neighbors algorithm, Relative density of data based method known as local outlier factor (LOF) algorithm    \n",
        "       5.3 Clustering-Based Anomaly Detection : K-means algorithm  \n",
        "       5.4 Support Vector Machine-Based Anomaly Detection      \n",
        "       5.5 Isolation Forest : https://www.youtube.com/watch?v=TP3wdwD8JVY    \n",
        "       5.6 Using Auto Encoders : https://www.youtube.com/watch?v=S31E-ftRfQI\n",
        "   \n"
      ]
    },
    {
      "cell_type": "code",
      "execution_count": null,
      "metadata": {
        "id": "NGW-c3VY20TJ"
      },
      "outputs": [],
      "source": [
        "prec = [1,2,3,4]\n",
        "reca = [2,3,1,4]\n",
        "f1sc = [.2,.7,.8,.9]"
      ]
    },
    {
      "cell_type": "code",
      "execution_count": null,
      "metadata": {
        "id": "ZVcjkNCl20TJ"
      },
      "outputs": [],
      "source": []
    },
    {
      "cell_type": "markdown",
      "metadata": {
        "id": "gp2YEhMT20TJ"
      },
      "source": [
        " We will deal with anomaly detection in a separate notebook"
      ]
    },
    {
      "cell_type": "code",
      "execution_count": null,
      "metadata": {
        "id": "FFp4x9PI20TK",
        "outputId": "469d6f6c-9bce-4480-a1ae-4f2dd06bce37"
      },
      "outputs": [
        {
          "data": {
            "image/png": "[encoded data removed]",
            "text/plain": [
              "<Figure size 864x576 with 1 Axes>"
            ]
          },
          "metadata": {
            "needs_background": "light"
          },
          "output_type": "display_data"
        }
      ],
      "source": [
        "# for raw class 0\n",
        "\n",
        "import numpy as np\n",
        "import matplotlib.pyplot as plt\n",
        "\n",
        "# set width of bar\n",
        "barWidth = 0.25\n",
        "fig = plt.subplots(figsize =(12, 8))\n",
        "\n",
        "# set height of bar\n",
        "prec =  [1 ,1,1,1,1,1,1]\n",
        "recall= [1 ,1,1,1,1,1,1]\n",
        "f1score = [1 ,1,1,1,1,1,1]\n",
        "\n",
        "# Set position of bar on X axis\n",
        "br1 = np.arange((7))\n",
        "br2 = [x + barWidth for x in br1]\n",
        "br3 = [x + barWidth for x in br2]\n",
        "\n",
        "# Make the plot\n",
        "plt.bar(br1, prec, color ='deepskyblue', width = barWidth,\n",
        "        edgecolor ='grey', label ='Precision')\n",
        "plt.bar(br2, recall, color ='gold', width = barWidth,\n",
        "        edgecolor ='grey', label ='Recall')\n",
        "plt.bar(br3, f1score, color ='darkgreen', width = barWidth,\n",
        "        edgecolor ='grey', label ='f1-score')\n",
        "\n",
        "# Adding Xticks\n",
        "plt.xlabel('Model', fontweight ='bold')\n",
        "plt.ylabel('Performance', fontweight ='bold')\n",
        "plt.xticks([r + barWidth for r in range(len(prec))],\n",
        "           ['LR', 'DC', 'SVM', 'RF', 'GB','XGB','ANN'])\n",
        "plt.legend()\n",
        "plt.title(\"Metrics for Imbalanced Data for Data Class-0\")\n",
        "plt.show()"
      ]
    },
    {
      "cell_type": "code",
      "execution_count": null,
      "metadata": {
        "id": "q2LQJlkh20TK",
        "outputId": "5ca2ab26-bf2d-43c3-f979-f86667591a5f"
      },
      "outputs": [
        {
          "data": {
            "image/png": "[encoded data removed]",
            "text/plain": [
              "<Figure size 864x576 with 1 Axes>"
            ]
          },
          "metadata": {
            "needs_background": "light"
          },
          "output_type": "display_data"
        }
      ],
      "source": [
        "# for smote class 0\n",
        "\n",
        "import numpy as np\n",
        "import matplotlib.pyplot as plt\n",
        "\n",
        "# set width of bar\n",
        "barWidth = 0.25\n",
        "fig = plt.subplots(figsize =(12, 8))\n",
        "\n",
        "# set height of bar\n",
        "prec =  [1 ,1,1,1,1,1,1]\n",
        "recall= [.95,.98,1,.99,.99,.99,1]\n",
        "f1score = [.97,.98,1,.99,.99,1,1]\n",
        "\n",
        "# Set position of bar on X axis\n",
        "br1 = np.arange((7))\n",
        "br2 = [x + barWidth for x in br1]\n",
        "br3 = [x + barWidth for x in br2]\n",
        "\n",
        "# Make the plot\n",
        "plt.bar(br1, prec, color ='deepskyblue', width = barWidth,\n",
        "        edgecolor ='grey', label ='Precision')\n",
        "plt.bar(br2, recall, color ='gold', width = barWidth,\n",
        "        edgecolor ='grey', label ='Recall')\n",
        "plt.bar(br3, f1score, color ='darkgreen', width = barWidth,\n",
        "        edgecolor ='grey', label ='f1-score')\n",
        "\n",
        "# Adding Xticks\n",
        "plt.xlabel('Model', fontweight ='bold')\n",
        "plt.ylabel('Performance', fontweight ='bold')\n",
        "plt.xticks([r + barWidth for r in range(len(prec))],\n",
        "           ['LR', 'DC', 'SVM', 'RF', 'GB','XGB','ANN'])\n",
        "plt.legend()\n",
        "plt.title(\"Metrics SMOTE-generated Data for Class-0\")\n",
        "plt.show()"
      ]
    },
    {
      "cell_type": "code",
      "execution_count": null,
      "metadata": {
        "id": "896y8_tm20TK"
      },
      "outputs": [],
      "source": []
    },
    {
      "cell_type": "code",
      "execution_count": null,
      "metadata": {
        "id": "sohUk1qK20TK",
        "outputId": "aa1f8c11-9dec-4773-db94-b187d571f990"
      },
      "outputs": [
        {
          "data": {
            "image/png": "[encoded data removed]",
            "text/plain": [
              "<Figure size 864x576 with 1 Axes>"
            ]
          },
          "metadata": {
            "needs_background": "light"
          },
          "output_type": "display_data"
        }
      ],
      "source": [
        "# for raw class 1\n",
        "\n",
        "import numpy as np\n",
        "import matplotlib.pyplot as plt\n",
        "\n",
        "# set width of bar\n",
        "barWidth = 0.25\n",
        "fig = plt.subplots(figsize =(12, 8))\n",
        "\n",
        "# set height of bar\n",
        "prec = [0,.78,.46,.98,.73,.85,.38]\n",
        "recall= [0,.63,.25,.47,.57,.65,.21]\n",
        "f1score = [0,.70,.32,.64,.64,.74,.27]\n",
        "\n",
        "# Set position of bar on X axis\n",
        "br1 = np.arange((7))\n",
        "br2 = [x + barWidth for x in br1]\n",
        "br3 = [x + barWidth for x in br2]\n",
        "\n",
        "# Make the plot\n",
        "plt.bar(br1, prec, color ='deepskyblue', width = barWidth,\n",
        "        edgecolor ='grey', label ='Precision')\n",
        "plt.bar(br2, recall, color ='gold', width = barWidth,\n",
        "        edgecolor ='grey', label ='Recall')\n",
        "plt.bar(br3, f1score, color ='darkgreen', width = barWidth,\n",
        "        edgecolor ='grey', label ='f1-score')\n",
        "\n",
        "# Adding Xticks\n",
        "plt.xlabel('Model', fontweight ='bold')\n",
        "plt.ylabel('Performance', fontweight ='bold')\n",
        "plt.xticks([r + barWidth for r in range(len(prec))],\n",
        "           ['LR', 'DC', 'SVM', 'RF', 'GB','XGB','ANN'])\n",
        "plt.legend()\n",
        "plt.title(\"Metrics for Imbalanced Data for Class-1\")\n",
        "plt.show()"
      ]
    },
    {
      "cell_type": "code",
      "execution_count": null,
      "metadata": {
        "id": "_VlQIkGA20TK"
      },
      "outputs": [],
      "source": []
    },
    {
      "cell_type": "code",
      "execution_count": null,
      "metadata": {
        "id": "UApG0z_o20TK",
        "outputId": "b8427db1-0adc-475d-ed86-c62a440eeb59"
      },
      "outputs": [
        {
          "data": {
            "image/png": "[encoded data removed]",
            "text/plain": [
              "<Figure size 864x576 with 1 Axes>"
            ]
          },
          "metadata": {
            "needs_background": "light"
          },
          "output_type": "display_data"
        }
      ],
      "source": [
        "# for raw class 1\n",
        "\n",
        "import numpy as np\n",
        "import matplotlib.pyplot as plt\n",
        "\n",
        "# set width of bar\n",
        "barWidth = 0.25\n",
        "fig = plt.subplots(figsize =(12, 8))\n",
        "\n",
        "# set height of bar\n",
        "prec = [.07,.15,.16,.23,.25,.36,.11]\n",
        "recall= [.77,.76,.08,.62,.71,.78,.05]\n",
        "f1score = [.13,.25,.11,.33,.37,.49,.07]\n",
        "\n",
        "# Set position of bar on X axis\n",
        "br1 = np.arange((7))\n",
        "br2 = [x + barWidth for x in br1]\n",
        "br3 = [x + barWidth for x in br2]\n",
        "\n",
        "# Make the plot\n",
        "plt.bar(br1, prec, color ='deepskyblue', width = barWidth,\n",
        "        edgecolor ='grey', label ='Precision')\n",
        "plt.bar(br2, recall, color ='gold', width = barWidth,\n",
        "        edgecolor ='grey', label ='Recall')\n",
        "plt.bar(br3, f1score, color ='darkgreen', width = barWidth,\n",
        "        edgecolor ='grey', label ='f1-score')\n",
        "\n",
        "# Adding Xticks\n",
        "plt.xlabel('Model', fontweight ='bold')\n",
        "plt.ylabel('Performance', fontweight ='bold')\n",
        "plt.xticks([r + barWidth for r in range(len(prec))],\n",
        "           ['LR', 'DC', 'SVM', 'RF', 'GB','XGB','ANN'])\n",
        "plt.legend()\n",
        "plt.title(\"Metrics for SMOTE-generated Data for Class-1\")\n",
        "plt.show()"
      ]
    },
    {
      "cell_type": "code",
      "execution_count": null,
      "metadata": {
        "id": "dP8fIhtN20TK"
      },
      "outputs": [],
      "source": [
        "\n",
        " raw rf     1       0.97      0.22      0.36\n",
        "            1       0.17      0.02      0.04 without hyper tuning\n",
        "smote rf   1       0.10      0.75      0.18  with hyper tuning\n",
        "prec = [.07,.15,.16,.23,.25,.11]\n",
        "recall= [.77,.76,.08,.62,.71,.05]\n",
        "f1score = [.13,.25,.11,.33,.37,.07]\n",
        " Arushi\n",
        "LR raw    0 0  0\n",
        "LR smote .07 .77 .13\n",
        "\n",
        "dc raw  .78 .63 .70\n",
        "dc smote .15 .76 .25\n",
        "\n",
        "SVM raw   .46 .25 .32 hyper tuned polynomial kernel\n",
        "SVM smote .16 .08 .11 hyper tuned polynomial kernel\n",
        "\n",
        "raw rf   .98 .47 .64\n",
        "smote rf  .23 .62 .33\n",
        "\n",
        "GB raw   .73 .57 .64\n",
        "GB smote .25 .71 .37\n",
        "\n",
        "ANN       .38 .21 .27\n",
        "ANN smote .11 .05 .07\n",
        "\n",
        "\n",
        "\n"
      ]
    },
    {
      "cell_type": "code",
      "execution_count": null,
      "metadata": {
        "id": "fgElNpjA20TK"
      },
      "outputs": [],
      "source": [
        "\n",
        "from xgboost import XGBClassifier"
      ]
    },
    {
      "cell_type": "code",
      "execution_count": null,
      "metadata": {
        "id": "HZVtuCKv20TL",
        "outputId": "f8ca5e79-8f07-453c-8d10-32a551422880"
      },
      "outputs": [
        {
          "data": {
            "text/plain": [
              "XGBClassifier(base_score=0.5, booster='gbtree', colsample_bylevel=1,\n",
              "              colsample_bynode=1, colsample_bytree=1, gamma=0, gpu_id=-1,\n",
              "              importance_type='gain', interaction_constraints='',\n",
              "              learning_rate=0.300000012, max_delta_step=0, max_depth=6,\n",
              "              min_child_weight=1, missing=nan, monotone_constraints='()',\n",
              "              n_estimators=100, n_jobs=0, num_parallel_tree=1, random_state=0,\n",
              "              reg_alpha=0, reg_lambda=1, scale_pos_weight=1, subsample=1,\n",
              "              tree_method='exact', validate_parameters=1, verbosity=None)"
            ]
          },
          "execution_count": 80,
          "metadata": {},
          "output_type": "execute_result"
        }
      ],
      "source": [
        "model_xgboost = XGBClassifier()\n",
        "model_xgboost.fit(df_Train, Y_train)"
      ]
    },
    {
      "cell_type": "code",
      "execution_count": null,
      "metadata": {
        "id": "aE0vYvDp20TL",
        "outputId": "c8546e3a-49bc-4c8a-f1b9-14d4cbbed8ea"
      },
      "outputs": [
        {
          "name": "stdout",
          "output_type": "stream",
          "text": [
            "Training Accuracy:  0.9995604158311997\n",
            "Testing Accuracy:  0.9978406391708055\n",
            "[[27641    15]\n",
            " [   45    85]]\n",
            "              precision    recall  f1-score   support\n",
            "\n",
            "           0       1.00      1.00      1.00     27656\n",
            "           1       0.85      0.65      0.74       130\n",
            "\n",
            "    accuracy                           1.00     27786\n",
            "   macro avg       0.92      0.83      0.87     27786\n",
            "weighted avg       1.00      1.00      1.00     27786\n",
            "\n"
          ]
        }
      ],
      "source": [
        "y_pred_xgboost = model_xgboost.predict(df_Test)\n",
        "print_eval(y_pred_xgboost,model_xgboost)"
      ]
    },
    {
      "cell_type": "code",
      "execution_count": null,
      "metadata": {
        "id": "YKfArDmV20TL",
        "outputId": "92b4c47b-a8c6-4c32-8bec-f8f33d6f2619"
      },
      "outputs": [
        {
          "name": "stdout",
          "output_type": "stream",
          "text": [
            "Training Accuracy:  0.9961594225252183\n",
            "Testing Accuracy:  0.9925142157921255\n",
            "[[27477   179]\n",
            " [   29   101]]\n",
            "              precision    recall  f1-score   support\n",
            "\n",
            "           0       1.00      0.99      1.00     27656\n",
            "           1       0.36      0.78      0.49       130\n",
            "\n",
            "    accuracy                           0.99     27786\n",
            "   macro avg       0.68      0.89      0.74     27786\n",
            "weighted avg       1.00      0.99      0.99     27786\n",
            "\n"
          ]
        }
      ],
      "source": [
        "from sklearn.metrics import confusion_matrix\n",
        "# smote\n",
        "\n",
        "# training and predictions : random forest\n",
        "model_xgboost_smote = XGBClassifier()\n",
        "model_xgboost_smote.fit(X_sm,y_sm)\n",
        "y_pred_xgboost_smote = model_xgboost_smote.predict(df_Test)\n",
        "\n",
        "print_eval(y_pred_xgboost_smote,model_xgboost_smote)"
      ]
    },
    {
      "cell_type": "code",
      "execution_count": null,
      "metadata": {
        "id": "jzxLj0Dn20TL"
      },
      "outputs": [],
      "source": []
    }
  ],
  "metadata": {
    "kernelspec": {
      "display_name": "Python 3",
      "language": "python",
      "name": "python3"
    },
    "language_info": {
      "codemirror_mode": {
        "name": "ipython",
        "version": 3
      },
      "file_extension": ".py",
      "mimetype": "text/x-python",
      "name": "python",
      "nbconvert_exporter": "python",
      "pygments_lexer": "ipython3",
      "version": "3.7.7"
    },
    "colab": {
      "provenance": []
    }
  },
  "nbformat": 4,
  "nbformat_minor": 0
}